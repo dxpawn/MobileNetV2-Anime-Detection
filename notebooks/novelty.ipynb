{
 "cells": [
  {
   "metadata": {},
   "cell_type": "markdown",
   "source": "# Before we start, I gotta force Python to utilize both of my CPU (screw you GIL)",
   "id": "7849bc0030e269dc"
  },
  {
   "metadata": {
    "ExecuteTime": {
     "end_time": "2025-06-07T18:05:46.412864Z",
     "start_time": "2025-06-07T18:05:42.796905Z"
    }
   },
   "cell_type": "code",
   "source": [
    "import os\n",
    "import tensorflow as tf\n",
    "import multiprocessing\n",
    "\n",
    "cpu_count = multiprocessing.cpu_count()\n",
    "print(f\"  Detected {cpu_count} CPU cores\")\n",
    "\n",
    "tf.config.threading.set_intra_op_parallelism_threads(cpu_count)\n",
    "tf.config.threading.set_inter_op_parallelism_threads(cpu_count)\n",
    "\n",
    "os.environ['OMP_NUM_THREADS'] = str(cpu_count)\n",
    "os.environ['MKL_NUM_THREADS'] = str(cpu_count)\n",
    "os.environ['TF_NUM_INTRAOP_THREADS'] = str(cpu_count)\n",
    "os.environ['TF_NUM_INTEROP_THREADS'] = str(cpu_count)\n",
    "\n",
    "print(f\"✅ Configured TensorFlow for {cpu_count} threads\")\n",
    "print(f\"Intra-op threads: {tf.config.threading.get_intra_op_parallelism_threads()}\")\n",
    "print(f\"Inter-op threads: {tf.config.threading.get_inter_op_parallelism_threads()}\")"
   ],
   "id": "355c1f298e08309d",
   "outputs": [
    {
     "name": "stdout",
     "output_type": "stream",
     "text": [
      "  Detected 72 CPU cores\n",
      "✅ Configured TensorFlow for 72 threads\n",
      "Intra-op threads: 72\n",
      "Inter-op threads: 72\n"
     ]
    }
   ],
   "execution_count": 1
  },
  {
   "metadata": {
    "ExecuteTime": {
     "end_time": "2025-06-07T15:01:56.911325Z",
     "start_time": "2025-06-07T15:01:56.904031Z"
    }
   },
   "cell_type": "code",
   "source": [
    "import multiprocessing\n",
    "print(multiprocessing.cpu_count())"
   ],
   "id": "a918b37c16b2af9f",
   "outputs": [
    {
     "name": "stdout",
     "output_type": "stream",
     "text": [
      "72\n"
     ]
    }
   ],
   "execution_count": 2
  },
  {
   "metadata": {
    "ExecuteTime": {
     "end_time": "2025-06-07T09:29:55.930404Z",
     "start_time": "2025-06-07T09:29:52.874277Z"
    }
   },
   "cell_type": "code",
   "source": [
    "'''\n",
    "import tensorflow as tf\n",
    "a = tf.random.normal([10000, 10000])\n",
    "b = tf.random.normal([10000, 10000])\n",
    "c = tf.matmul(a, b)  # Large matrix multiplication\n",
    "'''"
   ],
   "id": "c2b3d97b8f245232",
   "outputs": [],
   "execution_count": 35
  },
  {
   "metadata": {},
   "cell_type": "markdown",
   "source": [
    "NUMA-aware scheduling is ruining everything by limiting Python to one CPU... Guess I'll tweak this later\n",
    "\n",
    "If you ask \"why you not use GPU\", then fyi, TensorFlow dropped their support for native GPU on windows after 2.11,\n",
    "\n",
    "which means I'd need to downgrade my TensorFlow back to 2.10, my Python back to 3.7-3.10, my CUDA/cuDNN back to 11.x and all that...\n",
    "\n",
    "or I could just use WSL2\n",
    "\n",
    "but I'm lazy"
   ],
   "id": "eebc3413a491f352"
  },
  {
   "metadata": {},
   "cell_type": "markdown",
   "source": "# -------------------- PHASE 2: NOVELTY --------------------",
   "id": "c59b41dd9564f340"
  },
  {
   "metadata": {},
   "cell_type": "markdown",
   "source": "# 1. Prerequisites, again",
   "id": "ced370333ab8bb6e"
  },
  {
   "metadata": {
    "ExecuteTime": {
     "end_time": "2025-06-07T18:11:39.883630Z",
     "start_time": "2025-06-07T18:11:34.042049Z"
    }
   },
   "cell_type": "code",
   "source": [
    "import os\n",
    "import requests\n",
    "import cv2\n",
    "import json\n",
    "import time\n",
    "import numpy as np\n",
    "import tensorflow as tf\n",
    "import matplotlib.pyplot as plt\n",
    "import asyncio\n",
    "import aiohttp\n",
    "import aiofiles\n",
    "import seaborn as sns\n",
    "import pickle\n",
    "\n",
    "from sklearn.model_selection import train_test_split\n",
    "from tensorflow.keras.preprocessing.image import ImageDataGenerator\n",
    "from tensorflow.keras.metrics import Precision, Recall\n",
    "from tensorflow.keras import backend as K\n",
    "from urllib.parse import urljoin\n",
    "from PIL import Image\n",
    "from tensorflow.keras.applications import MobileNetV2\n",
    "from tensorflow.keras.layers import Dense, GlobalAveragePooling2D, Dropout, Input, Lambda\n",
    "from urllib.parse import urlparse\n",
    "from tensorflow.keras.callbacks import EarlyStopping, ReduceLROnPlateau\n",
    "from sklearn.metrics import confusion_matrix, classification_report, f1_score, accuracy_score\n",
    "from sklearn.utils.class_weight import compute_class_weight\n",
    "from tqdm import tqdm\n",
    "from tensorflow.keras.layers import *\n",
    "from tensorflow.keras.optimizers import Adam, RMSprop\n",
    "from tensorflow.keras.applications.mobilenet_v2 import preprocess_input\n",
    "from tensorflow.keras.models import load_model, Model, Sequential"
   ],
   "id": "63b040293421db2",
   "outputs": [],
   "execution_count": 1
  },
  {
   "metadata": {},
   "cell_type": "markdown",
   "source": "# 2. The spicy part",
   "id": "b0e80b29f4ce9446"
  },
  {
   "metadata": {
    "ExecuteTime": {
     "end_time": "2025-06-07T18:11:42.916108Z",
     "start_time": "2025-06-07T18:11:41.790048Z"
    }
   },
   "cell_type": "code",
   "source": [
    "# ============================================================================\n",
    "# ANIME AI CLASSIFIER - NOVELTY PART\n",
    "# Building upon the baseline model trained in the 1st notebook (96.49% TTA accuracy)\n",
    "# ============================================================================\n",
    "\n",
    "print(\"🚀 PHASE 2: Adding Novelty\")\n",
    "print(\"=\" * 50)\n",
    "\n",
    "# ============================================================================\n",
    "# STEP 1: Load Baseline Results & Model\n",
    "# ============================================================================\n",
    "\n",
    "print(\"📂 Loading baseline model and results...\")\n",
    "\n",
    "try:\n",
    "    baseline_model = load_model('models/enhanced_model.h5', compile=False)\n",
    "    print(\"✅ Baseline model loaded successfully\")\n",
    "    print(f\"   Model input shape: {baseline_model.input_shape}\")\n",
    "    print(f\"   Model output shape: {baseline_model.output_shape}\")\n",
    "except:\n",
    "    print(\" Error: Could not load baseline model. Make sure you ran notebook 1 first!\")\n",
    "    exit()\n",
    "\n",
    "# Load baseline results for comparison\n",
    "with open('models/enhanced_results.pkl', 'rb') as f:\n",
    "    baseline_results = pickle.load(f)\n",
    "\n",
    "with open('models/enhanced_history.pkl', 'rb') as f:\n",
    "    baseline_history = pickle.load(f)\n",
    "\n",
    "print(\"✅ Baseline results loaded:\")\n",
    "print(f\"   - Baseline TTA Accuracy: {baseline_results['tta_accuracy']:.4f}\")\n",
    "print(f\"   - Baseline TTA F1: {baseline_results['tta_f1_score']:.4f}\")\n",
    "print(f\"   - Target: Beat {baseline_results['tta_accuracy']:.4f} TTA accuracy\")"
   ],
   "id": "4a95f53c8724521e",
   "outputs": [
    {
     "name": "stdout",
     "output_type": "stream",
     "text": [
      "🚀 PHASE 2: Adding Novelty\n",
      "==================================================\n",
      "📂 Loading baseline model and results...\n",
      "✅ Baseline model loaded successfully\n",
      "   Model input shape: (None, 224, 224, 3)\n",
      "   Model output shape: (None, 1)\n",
      "✅ Baseline results loaded:\n",
      "   - Baseline TTA Accuracy: 0.9649\n",
      "   - Baseline TTA F1: 0.9656\n",
      "   - Target: Beat 0.9649 TTA accuracy\n"
     ]
    }
   ],
   "execution_count": 2
  },
  {
   "metadata": {
    "ExecuteTime": {
     "end_time": "2025-06-07T15:12:43.250545Z",
     "start_time": "2025-06-07T15:07:31.595554Z"
    }
   },
   "cell_type": "code",
   "source": [
    "# ============================================================================\n",
    "# STEP 2: Load data (SAME SPLIT as baseline for fair comparison)\n",
    "# ============================================================================\n",
    "\n",
    "# Basically same shit as the baseline notebook\n",
    "\n",
    "def load_and_preprocess_data():\n",
    "    def load_images_from_folder(folder, label):\n",
    "        images = []\n",
    "        labels = []\n",
    "\n",
    "        files = [f for f in os.listdir(folder) if f.lower().endswith(('.png', '.jpg', '.jpeg', '.webp'))]\n",
    "        print(f\"Loading {len(files)} images from {folder}...\")\n",
    "\n",
    "        for filename in files:\n",
    "            img_path = os.path.join(folder, filename)\n",
    "            try:\n",
    "                img = cv2.imread(img_path)\n",
    "                if img is None:\n",
    "                    continue\n",
    "                img = cv2.cvtColor(img, cv2.COLOR_BGR2RGB)\n",
    "\n",
    "                # Preserve aspect ratio while resizing\n",
    "                h, w = img.shape[:2]\n",
    "                if h > w:\n",
    "                    new_h, new_w = 224, int(224 * w / h)\n",
    "                else:\n",
    "                    new_h, new_w = int(224 * h / w), 224\n",
    "\n",
    "                img = cv2.resize(img, (new_w, new_h))\n",
    "\n",
    "                # Pad to 224x224\n",
    "                pad_h = (224 - new_h) // 2\n",
    "                pad_w = (224 - new_w) // 2\n",
    "                img = cv2.copyMakeBorder(img, pad_h, 224-new_h-pad_h,\n",
    "                                       pad_w, 224-new_w-pad_w,\n",
    "                                       cv2.BORDER_CONSTANT, value=[0,0,0])\n",
    "\n",
    "                # KEEP IN [0, 255] RANGE FOR MOBILENETV2\n",
    "                img = img.astype('float32')\n",
    "                images.append(img)\n",
    "                labels.append(label)\n",
    "            except Exception as e:\n",
    "                print(f\"Error loading {img_path}: {e}\")\n",
    "                continue\n",
    "        return images, labels\n",
    "\n",
    "    print(\"=\" * 50)\n",
    "    print(\"LOADING AND PREPROCESSING DATA\")\n",
    "    print(\"=\" * 50)\n",
    "\n",
    "    # Load real anime <3 (label = 0)\n",
    "    real_images, real_labels = load_images_from_folder('data/real', 0)\n",
    "\n",
    "    # Load AI-generated slop (label = 1)\n",
    "    ai_images, ai_labels = load_images_from_folder('data/ai_generated', 1)\n",
    "\n",
    "    print(\"\\nCombining datasets...\")\n",
    "    all_images = np.array(real_images + ai_images)\n",
    "    all_labels = np.array(real_labels + ai_labels, dtype=np.float32)\n",
    "\n",
    "    print(f\"✅ Total images loaded: {len(all_images)}\")\n",
    "    print(f\"✅ Real images: {len(real_images)}\")\n",
    "    print(f\"✅ AI images: {len(ai_images)}\")\n",
    "    print(f\"✅ Image value range: [{all_images.min():.1f}, {all_images.max():.1f}]\")\n",
    "    print(\"=\" * 50)\n",
    "\n",
    "    return all_images, all_labels\n",
    "\n",
    "print(\"\\n📂 Loading and preprocessing data (same split)...\")\n",
    "X, y = load_and_preprocess_data()\n",
    "\n",
    "# Remember: Use SAME random seed as baseline for fair comparison\n",
    "X_train, X_test, y_train, y_test = train_test_split(\n",
    "    X, y, test_size=0.2, random_state=42, stratify=y\n",
    ")\n",
    "X_train_final, X_val, y_train_final, y_val = train_test_split(\n",
    "    X_train, y_train, test_size=0.2, random_state=42, stratify=y_train\n",
    ")\n",
    "\n",
    "print(f\"✅ Data split (same as baseline):\")\n",
    "print(f\"   - Training samples: {len(X_train_final)}\")\n",
    "print(f\"   - Validation samples: {len(X_val)}\")\n",
    "print(f\"   - Test samples: {len(X_test)}\")"
   ],
   "id": "b1acf9ec7d6ae64b",
   "outputs": [
    {
     "name": "stdout",
     "output_type": "stream",
     "text": [
      "\n",
      "📂 Loading and preprocessing data (same split)...\n",
      "==================================================\n",
      "LOADING AND PREPROCESSING DATA\n",
      "==================================================\n",
      "Loading 2850 images from data/real...\n",
      "Loading 2850 images from data/ai_generated...\n",
      "\n",
      "Combining datasets...\n",
      "✅ Total images loaded: 5700\n",
      "✅ Real images: 2850\n",
      "✅ AI images: 2850\n",
      "✅ Image value range: [0.0, 255.0]\n",
      "==================================================\n",
      "✅ Data split (same as baseline):\n",
      "   - Training samples: 3648\n",
      "   - Validation samples: 912\n",
      "   - Test samples: 1140\n"
     ]
    }
   ],
   "execution_count": 5
  },
  {
   "metadata": {},
   "cell_type": "markdown",
   "source": [
    "### A failed approach:\n",
    "```python\n",
    "# ============================================================================\n",
    "# STEP 3: Line Art Consistency Feature Extraction\n",
    "# ============================================================================\n",
    "\n",
    "def extract_line_art_features(images, batch_size=100):\n",
    "    print(f\"🎨 Extracting line art features from {len(images)} images...\")\n",
    "\n",
    "    line_art_features = []\n",
    "\n",
    "    for i in range(0, len(images), batch_size):\n",
    "        batch_end = min(i + batch_size, len(images))\n",
    "        batch_images = images[i:batch_end]\n",
    "        batch_features = []\n",
    "\n",
    "        for img in batch_images:\n",
    "            # Convert to grayscale (ensure proper range)\n",
    "            if img.max() <= 1.0:\n",
    "                gray = cv2.cvtColor((img * 255).astype(np.uint8), cv2.COLOR_RGB2GRAY)\n",
    "            else:\n",
    "                gray = cv2.cvtColor(img.astype(np.uint8), cv2.COLOR_RGB2GRAY)\n",
    "\n",
    "            # Edge detection\n",
    "            edges = cv2.Canny(gray, 50, 150)\n",
    "            edge_density = np.sum(edges > 0) / (edges.shape[0] * edges.shape[1])\n",
    "\n",
    "            # Line detection\n",
    "            lines = cv2.HoughLines(edges, 1, np.pi/180, threshold=50)\n",
    "            line_count = len(lines) if lines is not None else 0\n",
    "            line_count_normalized = min(line_count / 50.0, 1.0)\n",
    "\n",
    "            # Line consistency\n",
    "            if lines is not None and len(lines) > 2:\n",
    "                angles = lines[:, 0, 1] % np.pi\n",
    "                line_consistency = max(0, 1.0 - np.std(angles))  # Invert std\n",
    "            else:\n",
    "                line_consistency = 0.0\n",
    "\n",
    "            # Corner detection\n",
    "            corners = cv2.goodFeaturesToTrack(gray, maxCorners=50, qualityLevel=0.01, minDistance=10)\n",
    "            corner_density = len(corners) / 1000.0 if corners is not None else 0.0\n",
    "            corner_density = min(corner_density, 1.0)\n",
    "\n",
    "            # Contour analysis\n",
    "            contours, _ = cv2.findContours(edges, cv2.RETR_EXTERNAL, cv2.CHAIN_APPROX_SIMPLE)\n",
    "            contour_count = min(len(contours) / 100.0, 1.0)\n",
    "\n",
    "            # Average contour area\n",
    "            if contours:\n",
    "                areas = [cv2.contourArea(c) for c in contours if cv2.contourArea(c) > 10]\n",
    "                avg_contour_area = np.mean(areas) / 500.0 if areas else 0.0\n",
    "                avg_contour_area = min(avg_contour_area, 1.0)  # Cap at 1.0\n",
    "            else:\n",
    "                avg_contour_area = 0.0\n",
    "\n",
    "            # ALL FEATURES NOW IN [0, 1] RANGE\n",
    "            features = [\n",
    "                edge_density,           # [0, 1]\n",
    "                line_count_normalized,  # [0, 1]\n",
    "                line_consistency,       # [0, 1]\n",
    "                corner_density,         # [0, 1]\n",
    "                contour_count,          # [0, 1]\n",
    "                avg_contour_area        # [0, 1]\n",
    "            ]\n",
    "\n",
    "            batch_features.append(features)\n",
    "\n",
    "        line_art_features.extend(batch_features)\n",
    "\n",
    "        if (i // batch_size + 1) % 5 == 0:\n",
    "            print(f\"   Processed {batch_end}/{len(images)} images...\")\n",
    "\n",
    "    features_array = np.array(line_art_features)\n",
    "\n",
    "    from sklearn.preprocessing import StandardScaler\n",
    "    scaler = StandardScaler()\n",
    "    features_normalized = scaler.fit_transform(features_array)\n",
    "\n",
    "    print(f\"✅ Features normalized to range [{features_normalized.min():.3f}, {features_normalized.max():.3f}]\")\n",
    "\n",
    "    return features_normalized, scaler\n",
    "```\n",
    "\n",
    "#### It classified a lot of real anime images as AI... Guess theory and implementation aren't two sides of the same coin :("
   ],
   "id": "25ffd2df4c6a40e4"
  },
  {
   "metadata": {
    "ExecuteTime": {
     "end_time": "2025-06-07T15:13:11.040193Z",
     "start_time": "2025-06-07T15:13:10.887132Z"
    }
   },
   "cell_type": "code",
   "source": [
    "# ============================================================================\n",
    "# STEP 3: CREATE ENSEMBLE MODELS (NOVELTY #1)\n",
    "# ============================================================================\n",
    "\n",
    "print(\"\\n STEP 3: Creating Ensemble Models\")\n",
    "print(\"=\" * 50)\n",
    "\n",
    "def create_ensemble_models():\n",
    "    # Model 1: Original baseline (already loaded)\n",
    "    model1 = baseline_model\n",
    "    print(\"✅ Model 1: Baseline model ready\")\n",
    "\n",
    "    # Model 2: Horizontal flip variant\n",
    "    print(\" Creating Model 2: Horizontal flip preprocessing...\")\n",
    "    flip_input = Input(shape=(224, 224, 3))\n",
    "    flip_preprocessed = Lambda(lambda x: tf.image.flip_left_right(x))(flip_input)\n",
    "    flip_features = baseline_model(flip_preprocessed)\n",
    "    model2 = Model(inputs=flip_input, outputs=flip_features)\n",
    "\n",
    "    # Model 3: Brightness adjustment variant\n",
    "    print(\" Creating Model 3: Brightness adjustment preprocessing...\")\n",
    "    bright_input = Input(shape=(224, 224, 3))\n",
    "    bright_preprocessed = Lambda(lambda x: tf.image.adjust_brightness(x, 0.1))(bright_input)\n",
    "    bright_features = baseline_model(bright_preprocessed)\n",
    "    model3 = Model(inputs=bright_input, outputs=bright_features)\n",
    "\n",
    "    print(\"✅ Ensemble models created successfully!\")\n",
    "    return [model1, model2, model3], ['baseline', 'horizontal_flip', 'brightness_adj']\n",
    "\n",
    "ensemble_models, model_names = create_ensemble_models()\n",
    "print(f\" Ensemble size: {len(ensemble_models)} models\")"
   ],
   "id": "d691cd23e6c9762",
   "outputs": [
    {
     "name": "stdout",
     "output_type": "stream",
     "text": [
      "\n",
      " STEP 3: Creating Ensemble Models\n",
      "==================================================\n",
      "✅ Model 1: Baseline model ready\n",
      " Creating Model 2: Horizontal flip preprocessing...\n",
      "WARNING:tensorflow:From C:\\Users\\Admin\\anime_ai_detection\\.venv\\Lib\\site-packages\\keras\\src\\backend\\tensorflow\\core.py:232: The name tf.placeholder is deprecated. Please use tf.compat.v1.placeholder instead.\n",
      "\n",
      " Creating Model 3: Brightness adjustment preprocessing...\n",
      "✅ Ensemble models created successfully!\n",
      " Ensemble size: 3 models\n"
     ]
    }
   ],
   "execution_count": 9
  },
  {
   "metadata": {
    "ExecuteTime": {
     "end_time": "2025-06-07T15:13:14.694960Z",
     "start_time": "2025-06-07T15:13:14.672758Z"
    }
   },
   "cell_type": "code",
   "source": [
    "# ============================================================================\n",
    "# STEP 4A: INSPECT MODEL & CREATE ENHANCED MODEL\n",
    "# ============================================================================\n",
    "\n",
    "print(\"\\n🔍 STEP 4A: Inspecting Baseline Model Architecture\")\n",
    "print(\"=\" * 50)\n",
    "\n",
    "# Print model layers with proper handling of InputLayer\n",
    "print(\"Baseline model layers:\")\n",
    "for i, layer in enumerate(baseline_model.layers):\n",
    "    try:\n",
    "        if hasattr(layer, 'output') and layer.output is not None:\n",
    "            output_shape = layer.output.shape\n",
    "            print(f\"Layer {i}: {layer.name} ({type(layer).__name__}) -> Output shape: {output_shape}\")\n",
    "        else:\n",
    "            print(f\"Layer {i}: {layer.name} ({type(layer).__name__}) -> No output shape\")\n",
    "    except Exception as e:\n",
    "        print(f\"Layer {i}: {layer.name} ({type(layer).__name__}) -> Error: {e}\")\n",
    "\n",
    "print(\"\\n\" + \"=\"*50)\n",
    "\n",
    "# Find suitable feature extraction layer (4D output, not InputLayer)\n",
    "feature_layer_idx = None\n",
    "for i in reversed(range(len(baseline_model.layers))):\n",
    "    layer = baseline_model.layers[i]\n",
    "    try:\n",
    "        # Skip InputLayer and layers without proper output[4]\n",
    "        if isinstance(layer, tf.keras.layers.InputLayer):\n",
    "            continue\n",
    "\n",
    "        if hasattr(layer, 'output') and layer.output is not None:\n",
    "            output_shape = layer.output.shape\n",
    "            # Look for 4D tensors (batch, height, width, channels)\n",
    "            if len(output_shape) == 4 and output_shape[1] is not None and output_shape[2] is not None:\n",
    "                feature_layer_idx = i\n",
    "                print(f\"✅ Found suitable feature layer: {layer.name} (index {i})\")\n",
    "                print(f\"   Output shape: {output_shape}\")\n",
    "                break\n",
    "    except:\n",
    "        continue\n",
    "\n",
    "if feature_layer_idx is None:\n",
    "    print(\"⚠️ No 4D feature layer found, will use simpler approach\")"
   ],
   "id": "827cf3441f319726",
   "outputs": [
    {
     "name": "stdout",
     "output_type": "stream",
     "text": [
      "\n",
      "🔍 STEP 4A: Inspecting Baseline Model Architecture\n",
      "==================================================\n",
      "Baseline model layers:\n",
      "Layer 0: input_layer_14 (InputLayer) -> Output shape: (None, 224, 224, 3)\n",
      "Layer 1: Conv1 (Conv2D) -> Output shape: (None, 112, 112, 32)\n",
      "Layer 2: bn_Conv1 (BatchNormalization) -> Output shape: (None, 112, 112, 32)\n",
      "Layer 3: Conv1_relu (ReLU) -> Output shape: (None, 112, 112, 32)\n",
      "Layer 4: expanded_conv_depthwise (DepthwiseConv2D) -> Output shape: (None, 112, 112, 32)\n",
      "Layer 5: expanded_conv_depthwise_BN (BatchNormalization) -> Output shape: (None, 112, 112, 32)\n",
      "Layer 6: expanded_conv_depthwise_relu (ReLU) -> Output shape: (None, 112, 112, 32)\n",
      "Layer 7: expanded_conv_project (Conv2D) -> Output shape: (None, 112, 112, 16)\n",
      "Layer 8: expanded_conv_project_BN (BatchNormalization) -> Output shape: (None, 112, 112, 16)\n",
      "Layer 9: block_1_expand (Conv2D) -> Output shape: (None, 112, 112, 96)\n",
      "Layer 10: block_1_expand_BN (BatchNormalization) -> Output shape: (None, 112, 112, 96)\n",
      "Layer 11: block_1_expand_relu (ReLU) -> Output shape: (None, 112, 112, 96)\n",
      "Layer 12: block_1_pad (ZeroPadding2D) -> Output shape: (None, 113, 113, 96)\n",
      "Layer 13: block_1_depthwise (DepthwiseConv2D) -> Output shape: (None, 56, 56, 96)\n",
      "Layer 14: block_1_depthwise_BN (BatchNormalization) -> Output shape: (None, 56, 56, 96)\n",
      "Layer 15: block_1_depthwise_relu (ReLU) -> Output shape: (None, 56, 56, 96)\n",
      "Layer 16: block_1_project (Conv2D) -> Output shape: (None, 56, 56, 24)\n",
      "Layer 17: block_1_project_BN (BatchNormalization) -> Output shape: (None, 56, 56, 24)\n",
      "Layer 18: block_2_expand (Conv2D) -> Output shape: (None, 56, 56, 144)\n",
      "Layer 19: block_2_expand_BN (BatchNormalization) -> Output shape: (None, 56, 56, 144)\n",
      "Layer 20: block_2_expand_relu (ReLU) -> Output shape: (None, 56, 56, 144)\n",
      "Layer 21: block_2_depthwise (DepthwiseConv2D) -> Output shape: (None, 56, 56, 144)\n",
      "Layer 22: block_2_depthwise_BN (BatchNormalization) -> Output shape: (None, 56, 56, 144)\n",
      "Layer 23: block_2_depthwise_relu (ReLU) -> Output shape: (None, 56, 56, 144)\n",
      "Layer 24: block_2_project (Conv2D) -> Output shape: (None, 56, 56, 24)\n",
      "Layer 25: block_2_project_BN (BatchNormalization) -> Output shape: (None, 56, 56, 24)\n",
      "Layer 26: block_2_add (Add) -> Output shape: (None, 56, 56, 24)\n",
      "Layer 27: block_3_expand (Conv2D) -> Output shape: (None, 56, 56, 144)\n",
      "Layer 28: block_3_expand_BN (BatchNormalization) -> Output shape: (None, 56, 56, 144)\n",
      "Layer 29: block_3_expand_relu (ReLU) -> Output shape: (None, 56, 56, 144)\n",
      "Layer 30: block_3_pad (ZeroPadding2D) -> Output shape: (None, 57, 57, 144)\n",
      "Layer 31: block_3_depthwise (DepthwiseConv2D) -> Output shape: (None, 28, 28, 144)\n",
      "Layer 32: block_3_depthwise_BN (BatchNormalization) -> Output shape: (None, 28, 28, 144)\n",
      "Layer 33: block_3_depthwise_relu (ReLU) -> Output shape: (None, 28, 28, 144)\n",
      "Layer 34: block_3_project (Conv2D) -> Output shape: (None, 28, 28, 32)\n",
      "Layer 35: block_3_project_BN (BatchNormalization) -> Output shape: (None, 28, 28, 32)\n",
      "Layer 36: block_4_expand (Conv2D) -> Output shape: (None, 28, 28, 192)\n",
      "Layer 37: block_4_expand_BN (BatchNormalization) -> Output shape: (None, 28, 28, 192)\n",
      "Layer 38: block_4_expand_relu (ReLU) -> Output shape: (None, 28, 28, 192)\n",
      "Layer 39: block_4_depthwise (DepthwiseConv2D) -> Output shape: (None, 28, 28, 192)\n",
      "Layer 40: block_4_depthwise_BN (BatchNormalization) -> Output shape: (None, 28, 28, 192)\n",
      "Layer 41: block_4_depthwise_relu (ReLU) -> Output shape: (None, 28, 28, 192)\n",
      "Layer 42: block_4_project (Conv2D) -> Output shape: (None, 28, 28, 32)\n",
      "Layer 43: block_4_project_BN (BatchNormalization) -> Output shape: (None, 28, 28, 32)\n",
      "Layer 44: block_4_add (Add) -> Output shape: (None, 28, 28, 32)\n",
      "Layer 45: block_5_expand (Conv2D) -> Output shape: (None, 28, 28, 192)\n",
      "Layer 46: block_5_expand_BN (BatchNormalization) -> Output shape: (None, 28, 28, 192)\n",
      "Layer 47: block_5_expand_relu (ReLU) -> Output shape: (None, 28, 28, 192)\n",
      "Layer 48: block_5_depthwise (DepthwiseConv2D) -> Output shape: (None, 28, 28, 192)\n",
      "Layer 49: block_5_depthwise_BN (BatchNormalization) -> Output shape: (None, 28, 28, 192)\n",
      "Layer 50: block_5_depthwise_relu (ReLU) -> Output shape: (None, 28, 28, 192)\n",
      "Layer 51: block_5_project (Conv2D) -> Output shape: (None, 28, 28, 32)\n",
      "Layer 52: block_5_project_BN (BatchNormalization) -> Output shape: (None, 28, 28, 32)\n",
      "Layer 53: block_5_add (Add) -> Output shape: (None, 28, 28, 32)\n",
      "Layer 54: block_6_expand (Conv2D) -> Output shape: (None, 28, 28, 192)\n",
      "Layer 55: block_6_expand_BN (BatchNormalization) -> Output shape: (None, 28, 28, 192)\n",
      "Layer 56: block_6_expand_relu (ReLU) -> Output shape: (None, 28, 28, 192)\n",
      "Layer 57: block_6_pad (ZeroPadding2D) -> Output shape: (None, 29, 29, 192)\n",
      "Layer 58: block_6_depthwise (DepthwiseConv2D) -> Output shape: (None, 14, 14, 192)\n",
      "Layer 59: block_6_depthwise_BN (BatchNormalization) -> Output shape: (None, 14, 14, 192)\n",
      "Layer 60: block_6_depthwise_relu (ReLU) -> Output shape: (None, 14, 14, 192)\n",
      "Layer 61: block_6_project (Conv2D) -> Output shape: (None, 14, 14, 64)\n",
      "Layer 62: block_6_project_BN (BatchNormalization) -> Output shape: (None, 14, 14, 64)\n",
      "Layer 63: block_7_expand (Conv2D) -> Output shape: (None, 14, 14, 384)\n",
      "Layer 64: block_7_expand_BN (BatchNormalization) -> Output shape: (None, 14, 14, 384)\n",
      "Layer 65: block_7_expand_relu (ReLU) -> Output shape: (None, 14, 14, 384)\n",
      "Layer 66: block_7_depthwise (DepthwiseConv2D) -> Output shape: (None, 14, 14, 384)\n",
      "Layer 67: block_7_depthwise_BN (BatchNormalization) -> Output shape: (None, 14, 14, 384)\n",
      "Layer 68: block_7_depthwise_relu (ReLU) -> Output shape: (None, 14, 14, 384)\n",
      "Layer 69: block_7_project (Conv2D) -> Output shape: (None, 14, 14, 64)\n",
      "Layer 70: block_7_project_BN (BatchNormalization) -> Output shape: (None, 14, 14, 64)\n",
      "Layer 71: block_7_add (Add) -> Output shape: (None, 14, 14, 64)\n",
      "Layer 72: block_8_expand (Conv2D) -> Output shape: (None, 14, 14, 384)\n",
      "Layer 73: block_8_expand_BN (BatchNormalization) -> Output shape: (None, 14, 14, 384)\n",
      "Layer 74: block_8_expand_relu (ReLU) -> Output shape: (None, 14, 14, 384)\n",
      "Layer 75: block_8_depthwise (DepthwiseConv2D) -> Output shape: (None, 14, 14, 384)\n",
      "Layer 76: block_8_depthwise_BN (BatchNormalization) -> Output shape: (None, 14, 14, 384)\n",
      "Layer 77: block_8_depthwise_relu (ReLU) -> Output shape: (None, 14, 14, 384)\n",
      "Layer 78: block_8_project (Conv2D) -> Output shape: (None, 14, 14, 64)\n",
      "Layer 79: block_8_project_BN (BatchNormalization) -> Output shape: (None, 14, 14, 64)\n",
      "Layer 80: block_8_add (Add) -> Output shape: (None, 14, 14, 64)\n",
      "Layer 81: block_9_expand (Conv2D) -> Output shape: (None, 14, 14, 384)\n",
      "Layer 82: block_9_expand_BN (BatchNormalization) -> Output shape: (None, 14, 14, 384)\n",
      "Layer 83: block_9_expand_relu (ReLU) -> Output shape: (None, 14, 14, 384)\n",
      "Layer 84: block_9_depthwise (DepthwiseConv2D) -> Output shape: (None, 14, 14, 384)\n",
      "Layer 85: block_9_depthwise_BN (BatchNormalization) -> Output shape: (None, 14, 14, 384)\n",
      "Layer 86: block_9_depthwise_relu (ReLU) -> Output shape: (None, 14, 14, 384)\n",
      "Layer 87: block_9_project (Conv2D) -> Output shape: (None, 14, 14, 64)\n",
      "Layer 88: block_9_project_BN (BatchNormalization) -> Output shape: (None, 14, 14, 64)\n",
      "Layer 89: block_9_add (Add) -> Output shape: (None, 14, 14, 64)\n",
      "Layer 90: block_10_expand (Conv2D) -> Output shape: (None, 14, 14, 384)\n",
      "Layer 91: block_10_expand_BN (BatchNormalization) -> Output shape: (None, 14, 14, 384)\n",
      "Layer 92: block_10_expand_relu (ReLU) -> Output shape: (None, 14, 14, 384)\n",
      "Layer 93: block_10_depthwise (DepthwiseConv2D) -> Output shape: (None, 14, 14, 384)\n",
      "Layer 94: block_10_depthwise_BN (BatchNormalization) -> Output shape: (None, 14, 14, 384)\n",
      "Layer 95: block_10_depthwise_relu (ReLU) -> Output shape: (None, 14, 14, 384)\n",
      "Layer 96: block_10_project (Conv2D) -> Output shape: (None, 14, 14, 96)\n",
      "Layer 97: block_10_project_BN (BatchNormalization) -> Output shape: (None, 14, 14, 96)\n",
      "Layer 98: block_11_expand (Conv2D) -> Output shape: (None, 14, 14, 576)\n",
      "Layer 99: block_11_expand_BN (BatchNormalization) -> Output shape: (None, 14, 14, 576)\n",
      "Layer 100: block_11_expand_relu (ReLU) -> Output shape: (None, 14, 14, 576)\n",
      "Layer 101: block_11_depthwise (DepthwiseConv2D) -> Output shape: (None, 14, 14, 576)\n",
      "Layer 102: block_11_depthwise_BN (BatchNormalization) -> Output shape: (None, 14, 14, 576)\n",
      "Layer 103: block_11_depthwise_relu (ReLU) -> Output shape: (None, 14, 14, 576)\n",
      "Layer 104: block_11_project (Conv2D) -> Output shape: (None, 14, 14, 96)\n",
      "Layer 105: block_11_project_BN (BatchNormalization) -> Output shape: (None, 14, 14, 96)\n",
      "Layer 106: block_11_add (Add) -> Output shape: (None, 14, 14, 96)\n",
      "Layer 107: block_12_expand (Conv2D) -> Output shape: (None, 14, 14, 576)\n",
      "Layer 108: block_12_expand_BN (BatchNormalization) -> Output shape: (None, 14, 14, 576)\n",
      "Layer 109: block_12_expand_relu (ReLU) -> Output shape: (None, 14, 14, 576)\n",
      "Layer 110: block_12_depthwise (DepthwiseConv2D) -> Output shape: (None, 14, 14, 576)\n",
      "Layer 111: block_12_depthwise_BN (BatchNormalization) -> Output shape: (None, 14, 14, 576)\n",
      "Layer 112: block_12_depthwise_relu (ReLU) -> Output shape: (None, 14, 14, 576)\n",
      "Layer 113: block_12_project (Conv2D) -> Output shape: (None, 14, 14, 96)\n",
      "Layer 114: block_12_project_BN (BatchNormalization) -> Output shape: (None, 14, 14, 96)\n",
      "Layer 115: block_12_add (Add) -> Output shape: (None, 14, 14, 96)\n",
      "Layer 116: block_13_expand (Conv2D) -> Output shape: (None, 14, 14, 576)\n",
      "Layer 117: block_13_expand_BN (BatchNormalization) -> Output shape: (None, 14, 14, 576)\n",
      "Layer 118: block_13_expand_relu (ReLU) -> Output shape: (None, 14, 14, 576)\n",
      "Layer 119: block_13_pad (ZeroPadding2D) -> Output shape: (None, 15, 15, 576)\n",
      "Layer 120: block_13_depthwise (DepthwiseConv2D) -> Output shape: (None, 7, 7, 576)\n",
      "Layer 121: block_13_depthwise_BN (BatchNormalization) -> Output shape: (None, 7, 7, 576)\n",
      "Layer 122: block_13_depthwise_relu (ReLU) -> Output shape: (None, 7, 7, 576)\n",
      "Layer 123: block_13_project (Conv2D) -> Output shape: (None, 7, 7, 160)\n",
      "Layer 124: block_13_project_BN (BatchNormalization) -> Output shape: (None, 7, 7, 160)\n",
      "Layer 125: block_14_expand (Conv2D) -> Output shape: (None, 7, 7, 960)\n",
      "Layer 126: block_14_expand_BN (BatchNormalization) -> Output shape: (None, 7, 7, 960)\n",
      "Layer 127: block_14_expand_relu (ReLU) -> Output shape: (None, 7, 7, 960)\n",
      "Layer 128: block_14_depthwise (DepthwiseConv2D) -> Output shape: (None, 7, 7, 960)\n",
      "Layer 129: block_14_depthwise_BN (BatchNormalization) -> Output shape: (None, 7, 7, 960)\n",
      "Layer 130: block_14_depthwise_relu (ReLU) -> Output shape: (None, 7, 7, 960)\n",
      "Layer 131: block_14_project (Conv2D) -> Output shape: (None, 7, 7, 160)\n",
      "Layer 132: block_14_project_BN (BatchNormalization) -> Output shape: (None, 7, 7, 160)\n",
      "Layer 133: block_14_add (Add) -> Output shape: (None, 7, 7, 160)\n",
      "Layer 134: block_15_expand (Conv2D) -> Output shape: (None, 7, 7, 960)\n",
      "Layer 135: block_15_expand_BN (BatchNormalization) -> Output shape: (None, 7, 7, 960)\n",
      "Layer 136: block_15_expand_relu (ReLU) -> Output shape: (None, 7, 7, 960)\n",
      "Layer 137: block_15_depthwise (DepthwiseConv2D) -> Output shape: (None, 7, 7, 960)\n",
      "Layer 138: block_15_depthwise_BN (BatchNormalization) -> Output shape: (None, 7, 7, 960)\n",
      "Layer 139: block_15_depthwise_relu (ReLU) -> Output shape: (None, 7, 7, 960)\n",
      "Layer 140: block_15_project (Conv2D) -> Output shape: (None, 7, 7, 160)\n",
      "Layer 141: block_15_project_BN (BatchNormalization) -> Output shape: (None, 7, 7, 160)\n",
      "Layer 142: block_15_add (Add) -> Output shape: (None, 7, 7, 160)\n",
      "Layer 143: block_16_expand (Conv2D) -> Output shape: (None, 7, 7, 960)\n",
      "Layer 144: block_16_expand_BN (BatchNormalization) -> Output shape: (None, 7, 7, 960)\n",
      "Layer 145: block_16_expand_relu (ReLU) -> Output shape: (None, 7, 7, 960)\n",
      "Layer 146: block_16_depthwise (DepthwiseConv2D) -> Output shape: (None, 7, 7, 960)\n",
      "Layer 147: block_16_depthwise_BN (BatchNormalization) -> Output shape: (None, 7, 7, 960)\n",
      "Layer 148: block_16_depthwise_relu (ReLU) -> Output shape: (None, 7, 7, 960)\n",
      "Layer 149: block_16_project (Conv2D) -> Output shape: (None, 7, 7, 320)\n",
      "Layer 150: block_16_project_BN (BatchNormalization) -> Output shape: (None, 7, 7, 320)\n",
      "Layer 151: Conv_1 (Conv2D) -> Output shape: (None, 7, 7, 1280)\n",
      "Layer 152: Conv_1_bn (BatchNormalization) -> Output shape: (None, 7, 7, 1280)\n",
      "Layer 153: out_relu (ReLU) -> Output shape: (None, 7, 7, 1280)\n",
      "Layer 154: global_average_pooling2d_14 (GlobalAveragePooling2D) -> Output shape: (None, 1280)\n",
      "Layer 155: dense_54 (Dense) -> Output shape: (None, 512)\n",
      "Layer 156: dropout_40 (Dropout) -> Output shape: (None, 512)\n",
      "Layer 157: dense_55 (Dense) -> Output shape: (None, 256)\n",
      "Layer 158: dropout_41 (Dropout) -> Output shape: (None, 256)\n",
      "Layer 159: dense_56 (Dense) -> Output shape: (None, 128)\n",
      "Layer 160: dropout_42 (Dropout) -> Output shape: (None, 128)\n",
      "Layer 161: dense_57 (Dense) -> Output shape: (None, 1)\n",
      "\n",
      "==================================================\n",
      "✅ Found suitable feature layer: out_relu (index 153)\n",
      "   Output shape: (None, 7, 7, 1280)\n"
     ]
    }
   ],
   "execution_count": 10
  },
  {
   "metadata": {
    "ExecuteTime": {
     "end_time": "2025-06-07T16:56:06.651402Z",
     "start_time": "2025-06-07T16:56:06.535866Z"
    }
   },
   "cell_type": "code",
   "source": [
    "print(\"\\n🎯 STEP 4B: Creating Enhanced Model\")\n",
    "print(\"=\" * 50)\n",
    "\n",
    "def create_enhanced_model_safe():\n",
    "    if feature_layer_idx is not None:\n",
    "        # Route 1: Extract from found 4D layer\n",
    "        print(f\"🎯 Using feature extraction from layer {feature_layer_idx}\")\n",
    "\n",
    "        # Create feature extractor using get_layer method\n",
    "        feature_layer = baseline_model.layers[feature_layer_idx]\n",
    "        feature_extractor = Model(\n",
    "            inputs=baseline_model.input,\n",
    "            outputs=feature_layer.output\n",
    "        )\n",
    "        feature_extractor.trainable = False\n",
    "\n",
    "        # Create attention-enhanced model\n",
    "        inputs = Input(shape=(224, 224, 3))\n",
    "        features = feature_extractor(inputs)\n",
    "\n",
    "        # Channel attention\n",
    "        attention = tf.keras.layers.GlobalAveragePooling2D()(features)\n",
    "        attention = Dense(features.shape[-1] // 4, activation='relu')(attention)\n",
    "        attention = Dense(features.shape[-1], activation='sigmoid')(attention)\n",
    "        attention_reshaped = tf.keras.layers.Reshape((1, 1, features.shape[-1]))(attention)\n",
    "\n",
    "        # Apply attention\n",
    "        attended_features = tf.keras.layers.Multiply()([features, attention_reshaped])\n",
    "\n",
    "        # Classification head\n",
    "        x = tf.keras.layers.GlobalAveragePooling2D()(attended_features)\n",
    "        x = Dense(256, activation='relu')(x)\n",
    "        x = Dropout(0.3)(x)\n",
    "        x = Dense(128, activation='relu')(x)\n",
    "        x = Dropout(0.4)(x)\n",
    "        x = Dense(64, activation='relu')(x)\n",
    "        x = Dropout(0.2)(x)\n",
    "        predictions = Dense(1, activation='sigmoid')(x)\n",
    "\n",
    "        enhanced_model = Model(inputs=inputs, outputs=predictions, name='attention_enhanced_classifier')\n",
    "\n",
    "    else:\n",
    "        # Route 2: Simple post-processing enhancement (better hope this route never activates)\n",
    "        print(\"🔧 Using simple post-processing enhancement\")\n",
    "\n",
    "        baseline_model.trainable = False\n",
    "\n",
    "        enhanced_model = Sequential([\n",
    "            baseline_model,\n",
    "            Dense(128, activation='relu', name='enhance_dense1'),\n",
    "            Dropout(0.3, name='enhance_dropout1'),\n",
    "            Dense(64, activation='relu', name='enhance_dense2'),\n",
    "            Dropout(0.2, name='enhance_dropout2'),\n",
    "            Dense(32, activation='relu', name='enhance_dense3'),\n",
    "            Dropout(0.1, name='enhance_dropout3'),\n",
    "            Dense(1, activation='sigmoid', name='enhanced_output')\n",
    "        ], name='simple_enhanced_classifier')\n",
    "\n",
    "    # Compile with same settings\n",
    "    enhanced_model.compile(\n",
    "        optimizer=Adam(learning_rate=0.0009999), # PREV BEST: Adam, 0.0001 - 96.93%\n",
    "        loss='binary_crossentropy',\n",
    "        metrics=['accuracy']\n",
    "    )\n",
    "\n",
    "    print(\"✅ Enhanced model created successfully!\")\n",
    "    return enhanced_model\n",
    "\n",
    "enhanced_model = create_enhanced_model_safe()\n",
    "enhanced_model.summary()"
   ],
   "id": "c9696c4e86de2796",
   "outputs": [
    {
     "name": "stdout",
     "output_type": "stream",
     "text": [
      "\n",
      "🎯 STEP 4B: Creating Enhanced Model\n",
      "==================================================\n",
      "🎯 Using feature extraction from layer 153\n",
      "✅ Enhanced model created successfully!\n"
     ]
    },
    {
     "data": {
      "text/plain": [
       "\u001B[1mModel: \"attention_enhanced_classifier\"\u001B[0m\n"
      ],
      "text/html": [
       "<pre style=\"white-space:pre;overflow-x:auto;line-height:normal;font-family:Menlo,'DejaVu Sans Mono',consolas,'Courier New',monospace\"><span style=\"font-weight: bold\">Model: \"attention_enhanced_classifier\"</span>\n",
       "</pre>\n"
      ]
     },
     "metadata": {},
     "output_type": "display_data"
    },
    {
     "data": {
      "text/plain": [
       "┏━━━━━━━━━━━━━━━━━━━━━┳━━━━━━━━━━━━━━━━━━━┳━━━━━━━━━━━━┳━━━━━━━━━━━━━━━━━━━┓\n",
       "┃\u001B[1m \u001B[0m\u001B[1mLayer (type)       \u001B[0m\u001B[1m \u001B[0m┃\u001B[1m \u001B[0m\u001B[1mOutput Shape     \u001B[0m\u001B[1m \u001B[0m┃\u001B[1m \u001B[0m\u001B[1m   Param #\u001B[0m\u001B[1m \u001B[0m┃\u001B[1m \u001B[0m\u001B[1mConnected to     \u001B[0m\u001B[1m \u001B[0m┃\n",
       "┡━━━━━━━━━━━━━━━━━━━━━╇━━━━━━━━━━━━━━━━━━━╇━━━━━━━━━━━━╇━━━━━━━━━━━━━━━━━━━┩\n",
       "│ input_layer_7       │ (\u001B[38;5;45mNone\u001B[0m, \u001B[38;5;34m224\u001B[0m, \u001B[38;5;34m224\u001B[0m,  │          \u001B[38;5;34m0\u001B[0m │ -                 │\n",
       "│ (\u001B[38;5;33mInputLayer\u001B[0m)        │ \u001B[38;5;34m3\u001B[0m)                │            │                   │\n",
       "├─────────────────────┼───────────────────┼────────────┼───────────────────┤\n",
       "│ functional_7        │ (\u001B[38;5;45mNone\u001B[0m, \u001B[38;5;34m7\u001B[0m, \u001B[38;5;34m7\u001B[0m,      │  \u001B[38;5;34m2,257,984\u001B[0m │ input_layer_7[\u001B[38;5;34m0\u001B[0m]… │\n",
       "│ (\u001B[38;5;33mFunctional\u001B[0m)        │ \u001B[38;5;34m1280\u001B[0m)             │            │                   │\n",
       "├─────────────────────┼───────────────────┼────────────┼───────────────────┤\n",
       "│ global_average_poo… │ (\u001B[38;5;45mNone\u001B[0m, \u001B[38;5;34m1280\u001B[0m)      │          \u001B[38;5;34m0\u001B[0m │ functional_7[\u001B[38;5;34m0\u001B[0m][\u001B[38;5;34m…\u001B[0m │\n",
       "│ (\u001B[38;5;33mGlobalAveragePool…\u001B[0m │                   │            │                   │\n",
       "├─────────────────────┼───────────────────┼────────────┼───────────────────┤\n",
       "│ dense_30 (\u001B[38;5;33mDense\u001B[0m)    │ (\u001B[38;5;45mNone\u001B[0m, \u001B[38;5;34m320\u001B[0m)       │    \u001B[38;5;34m409,920\u001B[0m │ global_average_p… │\n",
       "├─────────────────────┼───────────────────┼────────────┼───────────────────┤\n",
       "│ dense_31 (\u001B[38;5;33mDense\u001B[0m)    │ (\u001B[38;5;45mNone\u001B[0m, \u001B[38;5;34m1280\u001B[0m)      │    \u001B[38;5;34m410,880\u001B[0m │ dense_30[\u001B[38;5;34m0\u001B[0m][\u001B[38;5;34m0\u001B[0m]    │\n",
       "├─────────────────────┼───────────────────┼────────────┼───────────────────┤\n",
       "│ reshape_5 (\u001B[38;5;33mReshape\u001B[0m) │ (\u001B[38;5;45mNone\u001B[0m, \u001B[38;5;34m1\u001B[0m, \u001B[38;5;34m1\u001B[0m,      │          \u001B[38;5;34m0\u001B[0m │ dense_31[\u001B[38;5;34m0\u001B[0m][\u001B[38;5;34m0\u001B[0m]    │\n",
       "│                     │ \u001B[38;5;34m1280\u001B[0m)             │            │                   │\n",
       "├─────────────────────┼───────────────────┼────────────┼───────────────────┤\n",
       "│ multiply_5          │ (\u001B[38;5;45mNone\u001B[0m, \u001B[38;5;34m7\u001B[0m, \u001B[38;5;34m7\u001B[0m,      │          \u001B[38;5;34m0\u001B[0m │ functional_7[\u001B[38;5;34m0\u001B[0m][\u001B[38;5;34m…\u001B[0m │\n",
       "│ (\u001B[38;5;33mMultiply\u001B[0m)          │ \u001B[38;5;34m1280\u001B[0m)             │            │ reshape_5[\u001B[38;5;34m0\u001B[0m][\u001B[38;5;34m0\u001B[0m]   │\n",
       "├─────────────────────┼───────────────────┼────────────┼───────────────────┤\n",
       "│ global_average_poo… │ (\u001B[38;5;45mNone\u001B[0m, \u001B[38;5;34m1280\u001B[0m)      │          \u001B[38;5;34m0\u001B[0m │ multiply_5[\u001B[38;5;34m0\u001B[0m][\u001B[38;5;34m0\u001B[0m]  │\n",
       "│ (\u001B[38;5;33mGlobalAveragePool…\u001B[0m │                   │            │                   │\n",
       "├─────────────────────┼───────────────────┼────────────┼───────────────────┤\n",
       "│ dense_32 (\u001B[38;5;33mDense\u001B[0m)    │ (\u001B[38;5;45mNone\u001B[0m, \u001B[38;5;34m256\u001B[0m)       │    \u001B[38;5;34m327,936\u001B[0m │ global_average_p… │\n",
       "├─────────────────────┼───────────────────┼────────────┼───────────────────┤\n",
       "│ dropout_15          │ (\u001B[38;5;45mNone\u001B[0m, \u001B[38;5;34m256\u001B[0m)       │          \u001B[38;5;34m0\u001B[0m │ dense_32[\u001B[38;5;34m0\u001B[0m][\u001B[38;5;34m0\u001B[0m]    │\n",
       "│ (\u001B[38;5;33mDropout\u001B[0m)           │                   │            │                   │\n",
       "├─────────────────────┼───────────────────┼────────────┼───────────────────┤\n",
       "│ dense_33 (\u001B[38;5;33mDense\u001B[0m)    │ (\u001B[38;5;45mNone\u001B[0m, \u001B[38;5;34m128\u001B[0m)       │     \u001B[38;5;34m32,896\u001B[0m │ dropout_15[\u001B[38;5;34m0\u001B[0m][\u001B[38;5;34m0\u001B[0m]  │\n",
       "├─────────────────────┼───────────────────┼────────────┼───────────────────┤\n",
       "│ dropout_16          │ (\u001B[38;5;45mNone\u001B[0m, \u001B[38;5;34m128\u001B[0m)       │          \u001B[38;5;34m0\u001B[0m │ dense_33[\u001B[38;5;34m0\u001B[0m][\u001B[38;5;34m0\u001B[0m]    │\n",
       "│ (\u001B[38;5;33mDropout\u001B[0m)           │                   │            │                   │\n",
       "├─────────────────────┼───────────────────┼────────────┼───────────────────┤\n",
       "│ dense_34 (\u001B[38;5;33mDense\u001B[0m)    │ (\u001B[38;5;45mNone\u001B[0m, \u001B[38;5;34m64\u001B[0m)        │      \u001B[38;5;34m8,256\u001B[0m │ dropout_16[\u001B[38;5;34m0\u001B[0m][\u001B[38;5;34m0\u001B[0m]  │\n",
       "├─────────────────────┼───────────────────┼────────────┼───────────────────┤\n",
       "│ dropout_17          │ (\u001B[38;5;45mNone\u001B[0m, \u001B[38;5;34m64\u001B[0m)        │          \u001B[38;5;34m0\u001B[0m │ dense_34[\u001B[38;5;34m0\u001B[0m][\u001B[38;5;34m0\u001B[0m]    │\n",
       "│ (\u001B[38;5;33mDropout\u001B[0m)           │                   │            │                   │\n",
       "├─────────────────────┼───────────────────┼────────────┼───────────────────┤\n",
       "│ dense_35 (\u001B[38;5;33mDense\u001B[0m)    │ (\u001B[38;5;45mNone\u001B[0m, \u001B[38;5;34m1\u001B[0m)         │         \u001B[38;5;34m65\u001B[0m │ dropout_17[\u001B[38;5;34m0\u001B[0m][\u001B[38;5;34m0\u001B[0m]  │\n",
       "└─────────────────────┴───────────────────┴────────────┴───────────────────┘\n"
      ],
      "text/html": [
       "<pre style=\"white-space:pre;overflow-x:auto;line-height:normal;font-family:Menlo,'DejaVu Sans Mono',consolas,'Courier New',monospace\">┏━━━━━━━━━━━━━━━━━━━━━┳━━━━━━━━━━━━━━━━━━━┳━━━━━━━━━━━━┳━━━━━━━━━━━━━━━━━━━┓\n",
       "┃<span style=\"font-weight: bold\"> Layer (type)        </span>┃<span style=\"font-weight: bold\"> Output Shape      </span>┃<span style=\"font-weight: bold\">    Param # </span>┃<span style=\"font-weight: bold\"> Connected to      </span>┃\n",
       "┡━━━━━━━━━━━━━━━━━━━━━╇━━━━━━━━━━━━━━━━━━━╇━━━━━━━━━━━━╇━━━━━━━━━━━━━━━━━━━┩\n",
       "│ input_layer_7       │ (<span style=\"color: #00d7ff; text-decoration-color: #00d7ff\">None</span>, <span style=\"color: #00af00; text-decoration-color: #00af00\">224</span>, <span style=\"color: #00af00; text-decoration-color: #00af00\">224</span>,  │          <span style=\"color: #00af00; text-decoration-color: #00af00\">0</span> │ -                 │\n",
       "│ (<span style=\"color: #0087ff; text-decoration-color: #0087ff\">InputLayer</span>)        │ <span style=\"color: #00af00; text-decoration-color: #00af00\">3</span>)                │            │                   │\n",
       "├─────────────────────┼───────────────────┼────────────┼───────────────────┤\n",
       "│ functional_7        │ (<span style=\"color: #00d7ff; text-decoration-color: #00d7ff\">None</span>, <span style=\"color: #00af00; text-decoration-color: #00af00\">7</span>, <span style=\"color: #00af00; text-decoration-color: #00af00\">7</span>,      │  <span style=\"color: #00af00; text-decoration-color: #00af00\">2,257,984</span> │ input_layer_7[<span style=\"color: #00af00; text-decoration-color: #00af00\">0</span>]… │\n",
       "│ (<span style=\"color: #0087ff; text-decoration-color: #0087ff\">Functional</span>)        │ <span style=\"color: #00af00; text-decoration-color: #00af00\">1280</span>)             │            │                   │\n",
       "├─────────────────────┼───────────────────┼────────────┼───────────────────┤\n",
       "│ global_average_poo… │ (<span style=\"color: #00d7ff; text-decoration-color: #00d7ff\">None</span>, <span style=\"color: #00af00; text-decoration-color: #00af00\">1280</span>)      │          <span style=\"color: #00af00; text-decoration-color: #00af00\">0</span> │ functional_7[<span style=\"color: #00af00; text-decoration-color: #00af00\">0</span>][<span style=\"color: #00af00; text-decoration-color: #00af00\">…</span> │\n",
       "│ (<span style=\"color: #0087ff; text-decoration-color: #0087ff\">GlobalAveragePool…</span> │                   │            │                   │\n",
       "├─────────────────────┼───────────────────┼────────────┼───────────────────┤\n",
       "│ dense_30 (<span style=\"color: #0087ff; text-decoration-color: #0087ff\">Dense</span>)    │ (<span style=\"color: #00d7ff; text-decoration-color: #00d7ff\">None</span>, <span style=\"color: #00af00; text-decoration-color: #00af00\">320</span>)       │    <span style=\"color: #00af00; text-decoration-color: #00af00\">409,920</span> │ global_average_p… │\n",
       "├─────────────────────┼───────────────────┼────────────┼───────────────────┤\n",
       "│ dense_31 (<span style=\"color: #0087ff; text-decoration-color: #0087ff\">Dense</span>)    │ (<span style=\"color: #00d7ff; text-decoration-color: #00d7ff\">None</span>, <span style=\"color: #00af00; text-decoration-color: #00af00\">1280</span>)      │    <span style=\"color: #00af00; text-decoration-color: #00af00\">410,880</span> │ dense_30[<span style=\"color: #00af00; text-decoration-color: #00af00\">0</span>][<span style=\"color: #00af00; text-decoration-color: #00af00\">0</span>]    │\n",
       "├─────────────────────┼───────────────────┼────────────┼───────────────────┤\n",
       "│ reshape_5 (<span style=\"color: #0087ff; text-decoration-color: #0087ff\">Reshape</span>) │ (<span style=\"color: #00d7ff; text-decoration-color: #00d7ff\">None</span>, <span style=\"color: #00af00; text-decoration-color: #00af00\">1</span>, <span style=\"color: #00af00; text-decoration-color: #00af00\">1</span>,      │          <span style=\"color: #00af00; text-decoration-color: #00af00\">0</span> │ dense_31[<span style=\"color: #00af00; text-decoration-color: #00af00\">0</span>][<span style=\"color: #00af00; text-decoration-color: #00af00\">0</span>]    │\n",
       "│                     │ <span style=\"color: #00af00; text-decoration-color: #00af00\">1280</span>)             │            │                   │\n",
       "├─────────────────────┼───────────────────┼────────────┼───────────────────┤\n",
       "│ multiply_5          │ (<span style=\"color: #00d7ff; text-decoration-color: #00d7ff\">None</span>, <span style=\"color: #00af00; text-decoration-color: #00af00\">7</span>, <span style=\"color: #00af00; text-decoration-color: #00af00\">7</span>,      │          <span style=\"color: #00af00; text-decoration-color: #00af00\">0</span> │ functional_7[<span style=\"color: #00af00; text-decoration-color: #00af00\">0</span>][<span style=\"color: #00af00; text-decoration-color: #00af00\">…</span> │\n",
       "│ (<span style=\"color: #0087ff; text-decoration-color: #0087ff\">Multiply</span>)          │ <span style=\"color: #00af00; text-decoration-color: #00af00\">1280</span>)             │            │ reshape_5[<span style=\"color: #00af00; text-decoration-color: #00af00\">0</span>][<span style=\"color: #00af00; text-decoration-color: #00af00\">0</span>]   │\n",
       "├─────────────────────┼───────────────────┼────────────┼───────────────────┤\n",
       "│ global_average_poo… │ (<span style=\"color: #00d7ff; text-decoration-color: #00d7ff\">None</span>, <span style=\"color: #00af00; text-decoration-color: #00af00\">1280</span>)      │          <span style=\"color: #00af00; text-decoration-color: #00af00\">0</span> │ multiply_5[<span style=\"color: #00af00; text-decoration-color: #00af00\">0</span>][<span style=\"color: #00af00; text-decoration-color: #00af00\">0</span>]  │\n",
       "│ (<span style=\"color: #0087ff; text-decoration-color: #0087ff\">GlobalAveragePool…</span> │                   │            │                   │\n",
       "├─────────────────────┼───────────────────┼────────────┼───────────────────┤\n",
       "│ dense_32 (<span style=\"color: #0087ff; text-decoration-color: #0087ff\">Dense</span>)    │ (<span style=\"color: #00d7ff; text-decoration-color: #00d7ff\">None</span>, <span style=\"color: #00af00; text-decoration-color: #00af00\">256</span>)       │    <span style=\"color: #00af00; text-decoration-color: #00af00\">327,936</span> │ global_average_p… │\n",
       "├─────────────────────┼───────────────────┼────────────┼───────────────────┤\n",
       "│ dropout_15          │ (<span style=\"color: #00d7ff; text-decoration-color: #00d7ff\">None</span>, <span style=\"color: #00af00; text-decoration-color: #00af00\">256</span>)       │          <span style=\"color: #00af00; text-decoration-color: #00af00\">0</span> │ dense_32[<span style=\"color: #00af00; text-decoration-color: #00af00\">0</span>][<span style=\"color: #00af00; text-decoration-color: #00af00\">0</span>]    │\n",
       "│ (<span style=\"color: #0087ff; text-decoration-color: #0087ff\">Dropout</span>)           │                   │            │                   │\n",
       "├─────────────────────┼───────────────────┼────────────┼───────────────────┤\n",
       "│ dense_33 (<span style=\"color: #0087ff; text-decoration-color: #0087ff\">Dense</span>)    │ (<span style=\"color: #00d7ff; text-decoration-color: #00d7ff\">None</span>, <span style=\"color: #00af00; text-decoration-color: #00af00\">128</span>)       │     <span style=\"color: #00af00; text-decoration-color: #00af00\">32,896</span> │ dropout_15[<span style=\"color: #00af00; text-decoration-color: #00af00\">0</span>][<span style=\"color: #00af00; text-decoration-color: #00af00\">0</span>]  │\n",
       "├─────────────────────┼───────────────────┼────────────┼───────────────────┤\n",
       "│ dropout_16          │ (<span style=\"color: #00d7ff; text-decoration-color: #00d7ff\">None</span>, <span style=\"color: #00af00; text-decoration-color: #00af00\">128</span>)       │          <span style=\"color: #00af00; text-decoration-color: #00af00\">0</span> │ dense_33[<span style=\"color: #00af00; text-decoration-color: #00af00\">0</span>][<span style=\"color: #00af00; text-decoration-color: #00af00\">0</span>]    │\n",
       "│ (<span style=\"color: #0087ff; text-decoration-color: #0087ff\">Dropout</span>)           │                   │            │                   │\n",
       "├─────────────────────┼───────────────────┼────────────┼───────────────────┤\n",
       "│ dense_34 (<span style=\"color: #0087ff; text-decoration-color: #0087ff\">Dense</span>)    │ (<span style=\"color: #00d7ff; text-decoration-color: #00d7ff\">None</span>, <span style=\"color: #00af00; text-decoration-color: #00af00\">64</span>)        │      <span style=\"color: #00af00; text-decoration-color: #00af00\">8,256</span> │ dropout_16[<span style=\"color: #00af00; text-decoration-color: #00af00\">0</span>][<span style=\"color: #00af00; text-decoration-color: #00af00\">0</span>]  │\n",
       "├─────────────────────┼───────────────────┼────────────┼───────────────────┤\n",
       "│ dropout_17          │ (<span style=\"color: #00d7ff; text-decoration-color: #00d7ff\">None</span>, <span style=\"color: #00af00; text-decoration-color: #00af00\">64</span>)        │          <span style=\"color: #00af00; text-decoration-color: #00af00\">0</span> │ dense_34[<span style=\"color: #00af00; text-decoration-color: #00af00\">0</span>][<span style=\"color: #00af00; text-decoration-color: #00af00\">0</span>]    │\n",
       "│ (<span style=\"color: #0087ff; text-decoration-color: #0087ff\">Dropout</span>)           │                   │            │                   │\n",
       "├─────────────────────┼───────────────────┼────────────┼───────────────────┤\n",
       "│ dense_35 (<span style=\"color: #0087ff; text-decoration-color: #0087ff\">Dense</span>)    │ (<span style=\"color: #00d7ff; text-decoration-color: #00d7ff\">None</span>, <span style=\"color: #00af00; text-decoration-color: #00af00\">1</span>)         │         <span style=\"color: #00af00; text-decoration-color: #00af00\">65</span> │ dropout_17[<span style=\"color: #00af00; text-decoration-color: #00af00\">0</span>][<span style=\"color: #00af00; text-decoration-color: #00af00\">0</span>]  │\n",
       "└─────────────────────┴───────────────────┴────────────┴───────────────────┘\n",
       "</pre>\n"
      ]
     },
     "metadata": {},
     "output_type": "display_data"
    },
    {
     "data": {
      "text/plain": [
       "\u001B[1m Total params: \u001B[0m\u001B[38;5;34m3,447,937\u001B[0m (13.15 MB)\n"
      ],
      "text/html": [
       "<pre style=\"white-space:pre;overflow-x:auto;line-height:normal;font-family:Menlo,'DejaVu Sans Mono',consolas,'Courier New',monospace\"><span style=\"font-weight: bold\"> Total params: </span><span style=\"color: #00af00; text-decoration-color: #00af00\">3,447,937</span> (13.15 MB)\n",
       "</pre>\n"
      ]
     },
     "metadata": {},
     "output_type": "display_data"
    },
    {
     "data": {
      "text/plain": [
       "\u001B[1m Trainable params: \u001B[0m\u001B[38;5;34m1,189,953\u001B[0m (4.54 MB)\n"
      ],
      "text/html": [
       "<pre style=\"white-space:pre;overflow-x:auto;line-height:normal;font-family:Menlo,'DejaVu Sans Mono',consolas,'Courier New',monospace\"><span style=\"font-weight: bold\"> Trainable params: </span><span style=\"color: #00af00; text-decoration-color: #00af00\">1,189,953</span> (4.54 MB)\n",
       "</pre>\n"
      ]
     },
     "metadata": {},
     "output_type": "display_data"
    },
    {
     "data": {
      "text/plain": [
       "\u001B[1m Non-trainable params: \u001B[0m\u001B[38;5;34m2,257,984\u001B[0m (8.61 MB)\n"
      ],
      "text/html": [
       "<pre style=\"white-space:pre;overflow-x:auto;line-height:normal;font-family:Menlo,'DejaVu Sans Mono',consolas,'Courier New',monospace\"><span style=\"font-weight: bold\"> Non-trainable params: </span><span style=\"color: #00af00; text-decoration-color: #00af00\">2,257,984</span> (8.61 MB)\n",
       "</pre>\n"
      ]
     },
     "metadata": {},
     "output_type": "display_data"
    }
   ],
   "execution_count": 29
  },
  {
   "metadata": {
    "ExecuteTime": {
     "end_time": "2025-06-07T17:07:59.197749Z",
     "start_time": "2025-06-07T16:56:08.945321Z"
    }
   },
   "cell_type": "code",
   "source": [
    "# ============================================================================\n",
    "# STEP 5: TRAINING OF ENHANCED LAYERS ONLY\n",
    "# ============================================================================\n",
    "\n",
    "print(\"\\n🎯 STEP 5: Training Enhanced Layers (Attention + Classification)\")\n",
    "print(\"=\" * 50)\n",
    "\n",
    "def train_enhanced_layers():\n",
    "\n",
    "    X_train_prep = preprocess_input(X_train_final.copy())\n",
    "    X_val_prep = preprocess_input(X_val.copy())\n",
    "\n",
    "    print(\"🚀 Training enhanced layers (frozen features)...\")\n",
    "\n",
    "    # Training callbacks\n",
    "    callbacks = [\n",
    "        tf.keras.callbacks.EarlyStopping(monitor='val_accuracy', patience=5, restore_best_weights=True),\n",
    "        tf.keras.callbacks.ReduceLROnPlateau(monitor='val_loss', factor=0.5, patience=3, min_lr=1e-7)\n",
    "    ]\n",
    "\n",
    "    # Train only the new layers (veryyy fast since features are frozen)\n",
    "    history = enhanced_model.fit(\n",
    "        X_train_prep, y_train_final,\n",
    "        validation_data=(X_val_prep, y_val),\n",
    "        epochs=15,  # might adjust this in the future?\n",
    "        batch_size=64,\n",
    "        callbacks=callbacks,\n",
    "        verbose=1\n",
    "    )\n",
    "\n",
    "    print(\"✅ Enhanced model training completed!\")\n",
    "    return history\n",
    "\n",
    "enhanced_history = train_enhanced_layers()\n",
    "\n",
    "enhanced_model.save('models/attention_enhanced_model.h5')\n",
    "print(\" Enhanced model saved as 'attention_enhanced_model.h5'\")"
   ],
   "id": "cfb3ae3c442d67d5",
   "outputs": [
    {
     "name": "stdout",
     "output_type": "stream",
     "text": [
      "\n",
      "🎯 STEP 5: Training Enhanced Layers (Attention + Classification)\n",
      "==================================================\n",
      "🚀 Training enhanced layers (frozen features)...\n",
      "Epoch 1/15\n",
      "\u001B[1m57/57\u001B[0m \u001B[32m━━━━━━━━━━━━━━━━━━━━\u001B[0m\u001B[37m\u001B[0m \u001B[1m55s\u001B[0m 855ms/step - accuracy: 0.9025 - loss: 0.2344 - val_accuracy: 0.9781 - val_loss: 0.0546 - learning_rate: 9.9990e-04\n",
      "Epoch 2/15\n",
      "\u001B[1m57/57\u001B[0m \u001B[32m━━━━━━━━━━━━━━━━━━━━\u001B[0m\u001B[37m\u001B[0m \u001B[1m48s\u001B[0m 845ms/step - accuracy: 0.9904 - loss: 0.0343 - val_accuracy: 0.9759 - val_loss: 0.0645 - learning_rate: 9.9990e-04\n",
      "Epoch 3/15\n",
      "\u001B[1m57/57\u001B[0m \u001B[32m━━━━━━━━━━━━━━━━━━━━\u001B[0m\u001B[37m\u001B[0m \u001B[1m45s\u001B[0m 794ms/step - accuracy: 0.9904 - loss: 0.0242 - val_accuracy: 0.9781 - val_loss: 0.0830 - learning_rate: 9.9990e-04\n",
      "Epoch 4/15\n",
      "\u001B[1m57/57\u001B[0m \u001B[32m━━━━━━━━━━━━━━━━━━━━\u001B[0m\u001B[37m\u001B[0m \u001B[1m47s\u001B[0m 819ms/step - accuracy: 0.9915 - loss: 0.0217 - val_accuracy: 0.9529 - val_loss: 0.1350 - learning_rate: 9.9990e-04\n",
      "Epoch 5/15\n",
      "\u001B[1m57/57\u001B[0m \u001B[32m━━━━━━━━━━━━━━━━━━━━\u001B[0m\u001B[37m\u001B[0m \u001B[1m47s\u001B[0m 817ms/step - accuracy: 0.9897 - loss: 0.0324 - val_accuracy: 0.9770 - val_loss: 0.0694 - learning_rate: 4.9995e-04\n",
      "Epoch 6/15\n",
      "\u001B[1m57/57\u001B[0m \u001B[32m━━━━━━━━━━━━━━━━━━━━\u001B[0m\u001B[37m\u001B[0m \u001B[1m48s\u001B[0m 840ms/step - accuracy: 0.9971 - loss: 0.0068 - val_accuracy: 0.9814 - val_loss: 0.0790 - learning_rate: 4.9995e-04\n",
      "Epoch 7/15\n",
      "\u001B[1m57/57\u001B[0m \u001B[32m━━━━━━━━━━━━━━━━━━━━\u001B[0m\u001B[37m\u001B[0m \u001B[1m48s\u001B[0m 834ms/step - accuracy: 0.9992 - loss: 0.0033 - val_accuracy: 0.9792 - val_loss: 0.1111 - learning_rate: 4.9995e-04\n",
      "Epoch 8/15\n",
      "\u001B[1m57/57\u001B[0m \u001B[32m━━━━━━━━━━━━━━━━━━━━\u001B[0m\u001B[37m\u001B[0m \u001B[1m60s\u001B[0m 1s/step - accuracy: 0.9989 - loss: 0.0031 - val_accuracy: 0.9836 - val_loss: 0.0976 - learning_rate: 2.4998e-04\n",
      "Epoch 9/15\n",
      "\u001B[1m57/57\u001B[0m \u001B[32m━━━━━━━━━━━━━━━━━━━━\u001B[0m\u001B[37m\u001B[0m \u001B[1m63s\u001B[0m 1s/step - accuracy: 1.0000 - loss: 0.0013 - val_accuracy: 0.9836 - val_loss: 0.1042 - learning_rate: 2.4998e-04\n",
      "Epoch 10/15\n",
      "\u001B[1m57/57\u001B[0m \u001B[32m━━━━━━━━━━━━━━━━━━━━\u001B[0m\u001B[37m\u001B[0m \u001B[1m63s\u001B[0m 1s/step - accuracy: 1.0000 - loss: 5.1660e-04 - val_accuracy: 0.9814 - val_loss: 0.1109 - learning_rate: 2.4998e-04\n",
      "Epoch 11/15\n",
      "\u001B[1m57/57\u001B[0m \u001B[32m━━━━━━━━━━━━━━━━━━━━\u001B[0m\u001B[37m\u001B[0m \u001B[1m61s\u001B[0m 1s/step - accuracy: 1.0000 - loss: 3.5139e-04 - val_accuracy: 0.9814 - val_loss: 0.1120 - learning_rate: 1.2499e-04\n",
      "Epoch 12/15\n",
      "\u001B[1m57/57\u001B[0m \u001B[32m━━━━━━━━━━━━━━━━━━━━\u001B[0m\u001B[37m\u001B[0m \u001B[1m63s\u001B[0m 1s/step - accuracy: 1.0000 - loss: 2.8227e-04 - val_accuracy: 0.9836 - val_loss: 0.1130 - learning_rate: 1.2499e-04\n",
      "Epoch 13/15\n",
      "\u001B[1m57/57\u001B[0m \u001B[32m━━━━━━━━━━━━━━━━━━━━\u001B[0m\u001B[37m\u001B[0m \u001B[1m59s\u001B[0m 1s/step - accuracy: 1.0000 - loss: 3.2223e-04 - val_accuracy: 0.9814 - val_loss: 0.1156 - learning_rate: 1.2499e-04\n",
      "✅ Enhanced model training completed!"
     ]
    },
    {
     "name": "stderr",
     "output_type": "stream",
     "text": [
      "WARNING:absl:You are saving your model as an HDF5 file via `model.save()` or `keras.saving.save_model(model)`. This file format is considered legacy. We recommend using instead the native Keras format, e.g. `model.save('my_model.keras')` or `keras.saving.save_model(model, 'my_model.keras')`. \n"
     ]
    },
    {
     "name": "stdout",
     "output_type": "stream",
     "text": [
      "\n",
      " Enhanced model saved as 'attention_enhanced_model.h5'\n"
     ]
    }
   ],
   "execution_count": 30
  },
  {
   "metadata": {
    "ExecuteTime": {
     "end_time": "2025-06-07T17:07:59.271949Z",
     "start_time": "2025-06-07T17:07:59.259937Z"
    }
   },
   "cell_type": "code",
   "source": [
    "# ============================================================================\n",
    "# STEP 6: ENSEMBLE PREDICTION SYSTEM\n",
    "# ============================================================================\n",
    "\n",
    "print(\"\\n🎯 STEP 6: Creating Ensemble Prediction System\")\n",
    "print(\"=\" * 50)\n",
    "\n",
    "def ensemble_predict(models, X_data, use_tta=True):\n",
    "    all_predictions = []\n",
    "\n",
    "    # Preprocess data\n",
    "    X_prep = preprocess_input(X_data.copy())\n",
    "\n",
    "    for i, model in enumerate(models):\n",
    "        print(f\"🔄 Getting predictions from {model_names[i]}...\")\n",
    "\n",
    "        if use_tta:\n",
    "            # TTA: original + horizontal flip\n",
    "            pred1 = model.predict(X_prep, verbose=0)\n",
    "            pred2 = model.predict(tf.image.flip_left_right(X_prep), verbose=0)\n",
    "            model_pred = (pred1 + pred2) / 2\n",
    "        else:\n",
    "            model_pred = model.predict(X_prep, verbose=0)\n",
    "\n",
    "        all_predictions.append(model_pred)\n",
    "\n",
    "    # Weighted ensemble (more weight to enhanced model)\n",
    "    weights = [0.3, 0.3, 0.4]  # baseline, flip, enhanced\n",
    "    final_predictions = np.zeros_like(all_predictions[0])\n",
    "\n",
    "    for pred, weight in zip(all_predictions, weights):\n",
    "        final_predictions += weight * pred\n",
    "\n",
    "    return final_predictions\n",
    "\n",
    "def enhanced_ensemble_predict(X_data, use_tta=True):\n",
    "    # Get ensemble predictions\n",
    "    ensemble_pred = ensemble_predict(ensemble_models, X_data, use_tta)\n",
    "\n",
    "    # Get enhanced model predictions\n",
    "    X_prep = preprocess_input(X_data.copy())\n",
    "    if use_tta:\n",
    "        enhanced_pred1 = enhanced_model.predict(X_prep, verbose=0)\n",
    "        enhanced_pred2 = enhanced_model.predict(tf.image.flip_left_right(X_prep), verbose=0)\n",
    "        enhanced_pred = (enhanced_pred1 + enhanced_pred2) / 2\n",
    "    else:\n",
    "        enhanced_pred = enhanced_model.predict(X_prep, verbose=0)\n",
    "\n",
    "    # Final weighted combination\n",
    "    final_pred = 0.6 * enhanced_pred + 0.4 * ensemble_pred\n",
    "\n",
    "    return final_pred\n",
    "\n",
    "print(\"✅ Ensemble prediction system ready!\")"
   ],
   "id": "8ac8e90ec5bec81d",
   "outputs": [
    {
     "name": "stdout",
     "output_type": "stream",
     "text": [
      "\n",
      "🎯 STEP 6: Creating Ensemble Prediction System\n",
      "==================================================\n",
      "✅ Ensemble prediction system ready!\n"
     ]
    }
   ],
   "execution_count": 31
  },
  {
   "metadata": {
    "ExecuteTime": {
     "end_time": "2025-06-07T17:11:24.358678Z",
     "start_time": "2025-06-07T17:07:59.366149Z"
    }
   },
   "cell_type": "code",
   "source": [
    "# ============================================================================\n",
    "# STEP 7: COMPREHENSIVE EVALUATION & COMPARISON\n",
    "# ============================================================================\n",
    "\n",
    "print(\"\\n🎯 STEP 7: Final Evaluation & Results\")\n",
    "print(\"=\" * 50)\n",
    "\n",
    "def comprehensive_evaluation():\n",
    "    results = {}\n",
    "\n",
    "    # 1. Baseline model performance\n",
    "    print(\"📊 Evaluating baseline model...\")\n",
    "    baseline_pred = baseline_model.predict(preprocess_input(X_test.copy()))\n",
    "    baseline_pred_tta = (baseline_pred +\n",
    "                        baseline_model.predict(preprocess_input(tf.image.flip_left_right(X_test).numpy()))) / 2\n",
    "\n",
    "    results['baseline'] = {\n",
    "        'accuracy': accuracy_score(y_test, (baseline_pred > 0.5).astype(int)),\n",
    "        'tta_accuracy': accuracy_score(y_test, (baseline_pred_tta > 0.5).astype(int)),\n",
    "        'f1': f1_score(y_test, (baseline_pred > 0.5).astype(int)),\n",
    "        'tta_f1': f1_score(y_test, (baseline_pred_tta > 0.5).astype(int))\n",
    "    }\n",
    "\n",
    "    # 2. Enhanced model performance\n",
    "    print(\"📊 Evaluating enhanced model...\")\n",
    "    enhanced_pred = enhanced_model.predict(preprocess_input(X_test.copy()))\n",
    "    enhanced_pred_tta = (enhanced_pred +\n",
    "                        enhanced_model.predict(preprocess_input(tf.image.flip_left_right(X_test).numpy()))) / 2\n",
    "\n",
    "    results['enhanced'] = {\n",
    "        'accuracy': accuracy_score(y_test, (enhanced_pred > 0.5).astype(int)),\n",
    "        'tta_accuracy': accuracy_score(y_test, (enhanced_pred_tta > 0.5).astype(int)),\n",
    "        'f1': f1_score(y_test, (enhanced_pred > 0.5).astype(int)),\n",
    "        'tta_f1': f1_score(y_test, (enhanced_pred_tta > 0.5).astype(int))\n",
    "    }\n",
    "\n",
    "    # 3. Final ensemble performance\n",
    "    print(\"📊 Evaluating final ensemble...\")\n",
    "    final_pred = enhanced_ensemble_predict(X_test, use_tta=False)\n",
    "    final_pred_tta = enhanced_ensemble_predict(X_test, use_tta=True)\n",
    "\n",
    "    results['final_ensemble'] = {\n",
    "        'accuracy': accuracy_score(y_test, (final_pred > 0.5).astype(int)),\n",
    "        'tta_accuracy': accuracy_score(y_test, (final_pred_tta > 0.5).astype(int)),\n",
    "        'f1': f1_score(y_test, (final_pred > 0.5).astype(int)),\n",
    "        'tta_f1': f1_score(y_test, (final_pred_tta > 0.5).astype(int))\n",
    "    }\n",
    "\n",
    "    return results\n",
    "\n",
    "final_results = comprehensive_evaluation()\n",
    "\n",
    "print(\"\\n🎉 FINAL RESULTS COMPARISON\")\n",
    "print(\"=\" * 70)\n",
    "for model_name, metrics in final_results.items():\n",
    "    print(f\"\\n🤖 {model_name.upper()}:\")\n",
    "    print(f\"   🎯 Standard Accuracy: {metrics['accuracy']:.4f}\")\n",
    "    print(f\"   🚀 TTA Accuracy: {metrics['tta_accuracy']:.4f}\")\n",
    "    print(f\"   🎯 F1 Score: {metrics['f1']:.4f}\")\n",
    "    print(f\"   🚀 TTA F1 Score: {metrics['tta_f1']:.4f}\")\n",
    "\n",
    "with open('models/final_enhanced_results.pkl', 'wb') as f:\n",
    "    pickle.dump(final_results, f)\n",
    "\n",
    "print(f\"\\n💾 Final results saved!\")\n",
    "print(\"=\" * 70)"
   ],
   "id": "145a52cd069d4f46",
   "outputs": [
    {
     "name": "stdout",
     "output_type": "stream",
     "text": [
      "\n",
      "🎯 STEP 7: Final Evaluation & Results\n",
      "==================================================\n",
      "📊 Evaluating baseline model...\n",
      "\u001B[1m36/36\u001B[0m \u001B[32m━━━━━━━━━━━━━━━━━━━━\u001B[0m\u001B[37m\u001B[0m \u001B[1m11s\u001B[0m 313ms/step\n",
      "\u001B[1m36/36\u001B[0m \u001B[32m━━━━━━━━━━━━━━━━━━━━\u001B[0m\u001B[37m\u001B[0m \u001B[1m14s\u001B[0m 382ms/step\n",
      "📊 Evaluating enhanced model...\n",
      "\u001B[1m36/36\u001B[0m \u001B[32m━━━━━━━━━━━━━━━━━━━━\u001B[0m\u001B[37m\u001B[0m \u001B[1m15s\u001B[0m 343ms/step\n",
      "\u001B[1m36/36\u001B[0m \u001B[32m━━━━━━━━━━━━━━━━━━━━\u001B[0m\u001B[37m\u001B[0m \u001B[1m11s\u001B[0m 315ms/step\n",
      "📊 Evaluating final ensemble...\n",
      "🔄 Getting predictions from baseline...\n",
      "🔄 Getting predictions from horizontal_flip...\n",
      "🔄 Getting predictions from brightness_adj...\n",
      "🔄 Getting predictions from baseline...\n",
      "🔄 Getting predictions from horizontal_flip...\n",
      "🔄 Getting predictions from brightness_adj...\n",
      "\n",
      "🎉 FINAL RESULTS COMPARISON\n",
      "======================================================================\n",
      "\n",
      "🤖 BASELINE:\n",
      "   🎯 Standard Accuracy: 0.9596\n",
      "   🚀 TTA Accuracy: 0.9596\n",
      "   🎯 F1 Score: 0.9601\n",
      "   🚀 TTA F1 Score: 0.9602\n",
      "\n",
      "🤖 ENHANCED:\n",
      "   🎯 Standard Accuracy: 0.9667\n",
      "   🚀 TTA Accuracy: 0.9728\n",
      "   🎯 F1 Score: 0.9668\n",
      "   🚀 TTA F1 Score: 0.9729\n",
      "\n",
      "🤖 FINAL_ENSEMBLE:\n",
      "   🎯 Standard Accuracy: 0.9658\n",
      "   🚀 TTA Accuracy: 0.9632\n",
      "   🎯 F1 Score: 0.9659\n",
      "   🚀 TTA F1 Score: 0.9635\n",
      "\n",
      "💾 Final results saved!\n",
      "======================================================================\n"
     ]
    }
   ],
   "execution_count": 32
  },
  {
   "metadata": {},
   "cell_type": "markdown",
   "source": [
    "#### FINALLLYYYYYYYYYY!!! AFTER 6 HOURS OF FIDDLING WITH THE LEARNING RATE JUST TO GET A 0.07% INCREASE IN ACCURACY, I GOT 97.28%, HAHAHAHAHA\n",
    "#### Note: The ensemble is worse than the enhanced since it's averaging a good model with a bad one, this is expected lol"
   ],
   "id": "d7bfe174d809d62d"
  },
  {
   "metadata": {
    "ExecuteTime": {
     "end_time": "2025-06-07T17:20:45.400644Z",
     "start_time": "2025-06-07T17:20:44.592638Z"
    }
   },
   "cell_type": "code",
   "source": [
    "# ============================================================================\n",
    "# STEP 8: COMPREHENSIVE ANALYSIS OF BEST MODEL (97.28%)\n",
    "# ============================================================================\n",
    "\n",
    "print(\"\\n🎯 STEP 8: Analyzing Best Performing Model (97.28% TTA)\")\n",
    "print(\"=\" * 60)\n",
    "\n",
    "# Load best model\n",
    "best_model = load_model('models/attention_enhanced_model.h5')\n",
    "print(\"✅ Best model loaded successfully!\")\n",
    "print(f\"   Model: {best_model.name}\")"
   ],
   "id": "acfbb75f92d2aba",
   "outputs": [
    {
     "name": "stdout",
     "output_type": "stream",
     "text": [
      "\n",
      "🎯 STEP 8: Analyzing Best Performing Model (97.28% TTA)\n",
      "============================================================\n"
     ]
    },
    {
     "name": "stderr",
     "output_type": "stream",
     "text": [
      "WARNING:absl:Compiled the loaded model, but the compiled metrics have yet to be built. `model.compile_metrics` will be empty until you train or evaluate the model.\n"
     ]
    },
    {
     "name": "stdout",
     "output_type": "stream",
     "text": [
      "✅ Best model loaded successfully!\n",
      "   Model: attention_enhanced_classifier\n"
     ]
    }
   ],
   "execution_count": 33
  },
  {
   "metadata": {
    "ExecuteTime": {
     "end_time": "2025-06-07T17:21:19.705483Z",
     "start_time": "2025-06-07T17:21:17.453474Z"
    }
   },
   "cell_type": "code",
   "source": [
    "# ============================================================================\n",
    "# STEP 8A: TRAINING HISTORY VISUALIZATION\n",
    "# ============================================================================\n",
    "\n",
    "print(\"\\n📊 8A: Training History Analysis\")\n",
    "print(\"-\" * 40)\n",
    "\n",
    "# Plot training history\n",
    "import matplotlib.pyplot as plt\n",
    "import seaborn as sns\n",
    "\n",
    "plt.style.use('default')\n",
    "fig, axes = plt.subplots(2, 2, figsize=(15, 10))\n",
    "fig.suptitle('Enhanced Model Training History (Best: 97.28% TTA)', fontsize=16, fontweight='bold')\n",
    "\n",
    "# Plot 1: Accuracy\n",
    "axes[0,0].plot(enhanced_history.history['accuracy'], 'b-', label='Training Accuracy', linewidth=2)\n",
    "axes[0,0].plot(enhanced_history.history['val_accuracy'], 'r-', label='Validation Accuracy', linewidth=2)\n",
    "axes[0,0].set_title('Model Accuracy', fontweight='bold')\n",
    "axes[0,0].set_ylabel('Accuracy')\n",
    "axes[0,0].set_xlabel('Epoch')\n",
    "axes[0,0].legend()\n",
    "axes[0,0].grid(True, alpha=0.3)\n",
    "\n",
    "# Plot 2: Loss\n",
    "axes[0,1].plot(enhanced_history.history['loss'], 'b-', label='Training Loss', linewidth=2)\n",
    "axes[0,1].plot(enhanced_history.history['val_loss'], 'r-', label='Validation Loss', linewidth=2)\n",
    "axes[0,1].set_title('Model Loss', fontweight='bold')\n",
    "axes[0,1].set_ylabel('Loss')\n",
    "axes[0,1].set_xlabel('Epoch')\n",
    "axes[0,1].legend()\n",
    "axes[0,1].grid(True, alpha=0.3)\n",
    "\n",
    "# Plot 3: Best epochs highlighted\n",
    "best_val_acc = max(enhanced_history.history['val_accuracy'])\n",
    "best_epoch = enhanced_history.history['val_accuracy'].index(best_val_acc)\n",
    "\n",
    "axes[1,1].plot(enhanced_history.history['val_accuracy'], 'r-', linewidth=2)\n",
    "axes[1,1].scatter(best_epoch, best_val_acc, color='gold', s=100, zorder=5)\n",
    "axes[1,1].set_title(f'Best Validation Accuracy: {best_val_acc:.4f} (Epoch {best_epoch+1})', fontweight='bold')\n",
    "axes[1,1].set_ylabel('Validation Accuracy')\n",
    "axes[1,1].set_xlabel('Epoch')\n",
    "axes[1,1].grid(True, alpha=0.3)\n",
    "\n",
    "plt.tight_layout()\n",
    "plt.savefig('enhanced_model_training_history.png', dpi=300, bbox_inches='tight')\n",
    "plt.show()"
   ],
   "id": "83d1df25ae9cbd4a",
   "outputs": [
    {
     "name": "stdout",
     "output_type": "stream",
     "text": [
      "\n",
      "📊 8A: Training History Analysis\n",
      "----------------------------------------\n"
     ]
    },
    {
     "data": {
      "text/plain": [
       "<Figure size 1500x1000 with 4 Axes>"
      ],
      "image/png": "[encoded data removed]"
     },
     "metadata": {},
     "output_type": "display_data"
    }
   ],
   "execution_count": 35
  },
  {
   "metadata": {},
   "cell_type": "markdown",
   "source": [
    "there's supposed to be a history for the learning rate, but it wasn't anything interesting so i just removed it\n",
    "\n",
    "oh and remember to always use ReduceLROnPlateau, really helps with convergence\n",
    "\n",
    "i might need to add further anti-overfitting measures in the future tho... but that's for another time"
   ],
   "id": "d53b82f1ab8d4f6c"
  },
  {
   "metadata": {
    "ExecuteTime": {
     "end_time": "2025-06-07T17:25:18.604491Z",
     "start_time": "2025-06-07T17:24:50.173851Z"
    }
   },
   "cell_type": "code",
   "source": [
    "# ============================================================================\n",
    "# STEP 8B: CONFUSION MATRIX ANALYSIS\n",
    "# ============================================================================\n",
    "\n",
    "print(\"\\n📊 8B: Confusion Matrix Analysis\")\n",
    "print(\"-\" * 40)\n",
    "\n",
    "from sklearn.metrics import confusion_matrix, ConfusionMatrixDisplay, classification_report\n",
    "import numpy as np\n",
    "\n",
    "# Get predictions from best model\n",
    "print(\"🔄 Generating predictions...\")\n",
    "X_test_prep = preprocess_input(X_test.copy())\n",
    "\n",
    "# Standard predictions\n",
    "y_pred_best = best_model.predict(X_test_prep, verbose=0)\n",
    "y_pred_binary = (y_pred_best > 0.5).astype(int)\n",
    "\n",
    "# TTA predictions\n",
    "y_pred_tta = (y_pred_best + best_model.predict(preprocess_input(tf.image.flip_left_right(X_test).numpy()), verbose=0)) / 2\n",
    "y_pred_tta_binary = (y_pred_tta > 0.5).astype(int)\n",
    "\n",
    "# Create confusion matrices\n",
    "cm_standard = confusion_matrix(y_test, y_pred_binary)\n",
    "cm_tta = confusion_matrix(y_test, y_pred_tta_binary)\n",
    "\n",
    "# Plot confusion matrices\n",
    "fig, axes = plt.subplots(1, 2, figsize=(12, 5))\n",
    "\n",
    "# Standard CM\n",
    "disp1 = ConfusionMatrixDisplay(confusion_matrix=cm_standard,\n",
    "                              display_labels=['Real Anime', 'AI Generated'])\n",
    "disp1.plot(ax=axes[0], cmap='Blues', values_format='d')\n",
    "axes[0].set_title('Standard Prediction\\nAccuracy: 96.67%', fontweight='bold')\n",
    "\n",
    "# TTA CM\n",
    "disp2 = ConfusionMatrixDisplay(confusion_matrix=cm_tta,\n",
    "                              display_labels=['Real Anime', 'AI Generated'])\n",
    "disp2.plot(ax=axes[1], cmap='Greens', values_format='d')\n",
    "axes[1].set_title('TTA Prediction (Best)\\nAccuracy: 97.28%', fontweight='bold')\n",
    "\n",
    "plt.suptitle('Enhanced Model - Confusion Matrix Comparison', fontsize=16, fontweight='bold')\n",
    "plt.tight_layout()\n",
    "plt.savefig('enhanced_model_confusion_matrix.png', dpi=300, bbox_inches='tight')\n",
    "plt.show()\n",
    "\n",
    "print(\"✅ Confusion matrices generated!\")"
   ],
   "id": "8ad8b21bea628f88",
   "outputs": [
    {
     "name": "stdout",
     "output_type": "stream",
     "text": [
      "\n",
      "📊 8B: Confusion Matrix Analysis\n",
      "----------------------------------------\n",
      "🔄 Generating predictions...\n"
     ]
    },
    {
     "data": {
      "text/plain": [
       "<Figure size 1200x500 with 4 Axes>"
      ],
      "image/png": "[encoded data removed]"
     },
     "metadata": {},
     "output_type": "display_data"
    },
    {
     "name": "stdout",
     "output_type": "stream",
     "text": [
      "✅ Confusion matrices generated!\n"
     ]
    }
   ],
   "execution_count": 36
  },
  {
   "metadata": {
    "ExecuteTime": {
     "end_time": "2025-06-07T17:25:19.328618Z",
     "start_time": "2025-06-07T17:25:18.669817Z"
    }
   },
   "cell_type": "code",
   "source": [
    "# ============================================================================\n",
    "# STEP 8C: ROC CURVE AND AUC ANALYSIS\n",
    "# ============================================================================\n",
    "\n",
    "print(\"\\n📊 8C: ROC Curve and AUC Analysis\")\n",
    "print(\"-\" * 40)\n",
    "\n",
    "from sklearn.metrics import roc_curve, auc\n",
    "\n",
    "# Calculate ROC curves\n",
    "fpr_standard, tpr_standard, _ = roc_curve(y_test, y_pred_best.ravel())\n",
    "fpr_tta, tpr_tta, _ = roc_curve(y_test, y_pred_tta.ravel())\n",
    "\n",
    "# Calculate AUC\n",
    "auc_standard = auc(fpr_standard, tpr_standard)\n",
    "auc_tta = auc(fpr_tta, tpr_tta)\n",
    "\n",
    "# Plot ROC curves\n",
    "plt.figure(figsize=(10, 8))\n",
    "lw = 2\n",
    "\n",
    "plt.plot(fpr_standard, tpr_standard, color='darkorange', lw=lw,\n",
    "         label=f'Standard ROC (AUC = {auc_standard:.4f})')\n",
    "plt.plot(fpr_tta, tpr_tta, color='darkgreen', lw=lw,\n",
    "         label=f'TTA ROC (AUC = {auc_tta:.4f})')\n",
    "plt.plot([0, 1], [0, 1], color='navy', lw=lw, linestyle='--', label='Random Classifier')\n",
    "\n",
    "plt.xlim([0.0, 1.0])\n",
    "plt.ylim([0.0, 1.05])\n",
    "plt.xlabel('False Positive Rate', fontsize=12)\n",
    "plt.ylabel('True Positive Rate', fontsize=12)\n",
    "plt.title('Enhanced Model - ROC Curves Comparison\\n(Real vs AI Anime Classification)',\n",
    "          fontsize=14, fontweight='bold')\n",
    "plt.legend(loc=\"lower right\", fontsize=11)\n",
    "plt.grid(True, alpha=0.3)\n",
    "\n",
    "# Add performance text box\n",
    "textstr = f'Best Performance:\\nTTA Accuracy: 97.28%\\nTTA AUC: {auc_tta:.4f}'\n",
    "props = dict(boxstyle='round', facecolor='lightgreen', alpha=0.8)\n",
    "plt.text(0.6, 0.2, textstr, transform=plt.gca().transAxes, fontsize=10,\n",
    "         verticalalignment='top', bbox=props)\n",
    "\n",
    "plt.savefig('enhanced_model_roc_curves.png', dpi=300, bbox_inches='tight')\n",
    "plt.show()\n",
    "\n",
    "print(f\"✅ ROC analysis completed!\")\n",
    "print(f\"   Standard AUC: {auc_standard:.4f}\")\n",
    "print(f\"   TTA AUC: {auc_tta:.4f}\")\n"
   ],
   "id": "f805157105355ba9",
   "outputs": [
    {
     "name": "stdout",
     "output_type": "stream",
     "text": [
      "\n",
      "📊 8C: ROC Curve and AUC Analysis\n",
      "----------------------------------------\n"
     ]
    },
    {
     "data": {
      "text/plain": [
       "<Figure size 1000x800 with 1 Axes>"
      ],
      "image/png": "[encoded data removed]"
     },
     "metadata": {},
     "output_type": "display_data"
    },
    {
     "name": "stdout",
     "output_type": "stream",
     "text": [
      "✅ ROC analysis completed!\n",
      "   Standard AUC: 0.9947\n",
      "   TTA AUC: 0.9953\n"
     ]
    }
   ],
   "execution_count": 37
  },
  {
   "metadata": {
    "ExecuteTime": {
     "end_time": "2025-06-07T17:25:30.484502Z",
     "start_time": "2025-06-07T17:25:30.430172Z"
    }
   },
   "cell_type": "code",
   "source": [
    "# ============================================================================\n",
    "# STEP 8D: DETAILED CLASSIFICATION REPORT\n",
    "# ============================================================================\n",
    "\n",
    "print(\"\\n📊 8D: Detailed Classification Report\")\n",
    "print(\"-\" * 40)\n",
    "\n",
    "# Generate detailed classification report\n",
    "target_names = ['Real Anime', 'AI Generated']\n",
    "\n",
    "print(\"🎯 STANDARD PREDICTION REPORT:\")\n",
    "print(\"=\" * 50)\n",
    "print(classification_report(y_test, y_pred_binary, target_names=target_names, digits=4))\n",
    "\n",
    "print(\"\\n🚀 TTA PREDICTION REPORT (BEST):\")\n",
    "print(\"=\" * 50)\n",
    "print(classification_report(y_test, y_pred_tta_binary, target_names=target_names, digits=4))\n",
    "\n",
    "# Additional metrics\n",
    "from sklearn.metrics import precision_score, recall_score, f1_score\n",
    "\n",
    "print(\"\\n📈 SUMMARY METRICS COMPARISON:\")\n",
    "print(\"=\" * 50)\n",
    "print(f\"{'Metric':<20} {'Standard':<12} {'TTA (Best)':<12} {'Improvement'}\")\n",
    "print(\"-\" * 55)\n",
    "\n",
    "accuracy_std = accuracy_score(y_test, y_pred_binary)\n",
    "accuracy_tta = accuracy_score(y_test, y_pred_tta_binary)\n",
    "precision_std = precision_score(y_test, y_pred_binary)\n",
    "precision_tta = precision_score(y_test, y_pred_tta_binary)\n",
    "recall_std = recall_score(y_test, y_pred_binary)\n",
    "recall_tta = recall_score(y_test, y_pred_tta_binary)\n",
    "f1_std = f1_score(y_test, y_pred_binary)\n",
    "f1_tta = f1_score(y_test, y_pred_tta_binary)\n",
    "\n",
    "print(f\"{'Accuracy':<20} {accuracy_std:<12.4f} {accuracy_tta:<12.4f} {'+' if accuracy_tta > accuracy_std else ''}{(accuracy_tta - accuracy_std):.4f}\")\n",
    "print(f\"{'Precision':<20} {precision_std:<12.4f} {precision_tta:<12.4f} {'+' if precision_tta > precision_std else ''}{(precision_tta - precision_std):.4f}\")\n",
    "print(f\"{'Recall':<20} {recall_std:<12.4f} {recall_tta:<12.4f} {'+' if recall_tta > recall_std else ''}{(recall_tta - recall_std):.4f}\")\n",
    "print(f\"{'F1-Score':<20} {f1_std:<12.4f} {f1_tta:<12.4f} {'+' if f1_tta > f1_std else ''}{(f1_tta - f1_std):.4f}\")\n",
    "print(f\"{'AUC':<20} {auc_standard:<12.4f} {auc_tta:<12.4f} {'+' if auc_tta > auc_standard else ''}{(auc_tta - auc_standard):.4f}\")"
   ],
   "id": "b6c33e527ffe8f63",
   "outputs": [
    {
     "name": "stdout",
     "output_type": "stream",
     "text": [
      "\n",
      "📊 8D: Detailed Classification Report\n",
      "----------------------------------------\n",
      "🎯 STANDARD PREDICTION REPORT:\n",
      "==================================================\n",
      "              precision    recall  f1-score   support\n",
      "\n",
      "  Real Anime     0.9700    0.9632    0.9665       570\n",
      "AI Generated     0.9634    0.9702    0.9668       570\n",
      "\n",
      "    accuracy                         0.9667      1140\n",
      "   macro avg     0.9667    0.9667    0.9667      1140\n",
      "weighted avg     0.9667    0.9667    0.9667      1140\n",
      "\n",
      "\n",
      "🚀 TTA PREDICTION REPORT (BEST):\n",
      "==================================================\n",
      "              precision    recall  f1-score   support\n",
      "\n",
      "  Real Anime     0.9770    0.9684    0.9727       570\n",
      "AI Generated     0.9687    0.9772    0.9729       570\n",
      "\n",
      "    accuracy                         0.9728      1140\n",
      "   macro avg     0.9728    0.9728    0.9728      1140\n",
      "weighted avg     0.9728    0.9728    0.9728      1140\n",
      "\n",
      "\n",
      "📈 SUMMARY METRICS COMPARISON:\n",
      "==================================================\n",
      "Metric               Standard     TTA (Best)   Improvement\n",
      "-------------------------------------------------------\n",
      "Accuracy             0.9667       0.9728       +0.0061\n",
      "Precision            0.9634       0.9687       +0.0053\n",
      "Recall               0.9702       0.9772       +0.0070\n",
      "F1-Score             0.9668       0.9729       +0.0061\n",
      "AUC                  0.9947       0.9953       +0.0006\n"
     ]
    }
   ],
   "execution_count": 38
  },
  {
   "metadata": {
    "ExecuteTime": {
     "end_time": "2025-06-07T17:25:42.001246Z",
     "start_time": "2025-06-07T17:25:41.949641Z"
    }
   },
   "cell_type": "code",
   "source": [
    "# ============================================================================\n",
    "# STEP 8E: MODEL ARCHITECTURE VISUALIZATION\n",
    "# ============================================================================\n",
    "\n",
    "print(\"\\n📊 8E: Model Architecture Visualization\")\n",
    "print(\"-\" * 40)\n",
    "\n",
    "# Plot model architecture\n",
    "tf.keras.utils.plot_model(\n",
    "    best_model,\n",
    "    to_file='enhanced_model_architecture.png',\n",
    "    show_shapes=True,\n",
    "    show_layer_names=True,\n",
    "    rankdir='TB',\n",
    "    expand_nested=True,\n",
    "    dpi=300\n",
    ")\n",
    "\n",
    "print(\"✅ Model architecture diagram saved as 'enhanced_model_architecture.png'\")\n",
    "\n",
    "print(\"\\n🏗️ MODEL ARCHITECTURE SUMMARY:\")\n",
    "print(\"=\" * 60)\n",
    "best_model.summary()\n",
    "\n",
    "# Count parameters by type\n",
    "total_params = best_model.count_params()\n",
    "trainable_params = sum([tf.keras.backend.count_params(w) for w in best_model.trainable_weights])\n",
    "non_trainable_params = total_params - trainable_params\n",
    "\n",
    "print(f\"\\n📊 PARAMETER ANALYSIS:\")\n",
    "print(f\"   Total parameters: {total_params:,}\")\n",
    "print(f\"   Trainable parameters: {trainable_params:,}\")\n",
    "print(f\"   Non-trainable parameters: {non_trainable_params:,}\")\n",
    "print(f\"   Model size: ~{total_params * 4 / (1024**2):.2f} MB\")\n"
   ],
   "id": "b6f5d728e0826fbd",
   "outputs": [
    {
     "name": "stdout",
     "output_type": "stream",
     "text": [
      "\n",
      "📊 8E: Model Architecture Visualization\n",
      "----------------------------------------\n",
      "You must install pydot (`pip install pydot`) for `plot_model` to work.\n",
      "✅ Model architecture diagram saved as 'enhanced_model_architecture.png'\n",
      "\n",
      "🏗️ MODEL ARCHITECTURE SUMMARY:\n",
      "============================================================\n"
     ]
    },
    {
     "data": {
      "text/plain": [
       "\u001B[1mModel: \"attention_enhanced_classifier\"\u001B[0m\n"
      ],
      "text/html": [
       "<pre style=\"white-space:pre;overflow-x:auto;line-height:normal;font-family:Menlo,'DejaVu Sans Mono',consolas,'Courier New',monospace\"><span style=\"font-weight: bold\">Model: \"attention_enhanced_classifier\"</span>\n",
       "</pre>\n"
      ]
     },
     "metadata": {},
     "output_type": "display_data"
    },
    {
     "data": {
      "text/plain": [
       "┏━━━━━━━━━━━━━━━━━━━━━┳━━━━━━━━━━━━━━━━━━━┳━━━━━━━━━━━━┳━━━━━━━━━━━━━━━━━━━┓\n",
       "┃\u001B[1m \u001B[0m\u001B[1mLayer (type)       \u001B[0m\u001B[1m \u001B[0m┃\u001B[1m \u001B[0m\u001B[1mOutput Shape     \u001B[0m\u001B[1m \u001B[0m┃\u001B[1m \u001B[0m\u001B[1m   Param #\u001B[0m\u001B[1m \u001B[0m┃\u001B[1m \u001B[0m\u001B[1mConnected to     \u001B[0m\u001B[1m \u001B[0m┃\n",
       "┡━━━━━━━━━━━━━━━━━━━━━╇━━━━━━━━━━━━━━━━━━━╇━━━━━━━━━━━━╇━━━━━━━━━━━━━━━━━━━┩\n",
       "│ input_layer_7       │ (\u001B[38;5;45mNone\u001B[0m, \u001B[38;5;34m224\u001B[0m, \u001B[38;5;34m224\u001B[0m,  │          \u001B[38;5;34m0\u001B[0m │ -                 │\n",
       "│ (\u001B[38;5;33mInputLayer\u001B[0m)        │ \u001B[38;5;34m3\u001B[0m)                │            │                   │\n",
       "├─────────────────────┼───────────────────┼────────────┼───────────────────┤\n",
       "│ functional_7        │ (\u001B[38;5;45mNone\u001B[0m, \u001B[38;5;34m7\u001B[0m, \u001B[38;5;34m7\u001B[0m,      │  \u001B[38;5;34m2,257,984\u001B[0m │ input_layer_7[\u001B[38;5;34m0\u001B[0m]… │\n",
       "│ (\u001B[38;5;33mFunctional\u001B[0m)        │ \u001B[38;5;34m1280\u001B[0m)             │            │                   │\n",
       "├─────────────────────┼───────────────────┼────────────┼───────────────────┤\n",
       "│ global_average_poo… │ (\u001B[38;5;45mNone\u001B[0m, \u001B[38;5;34m1280\u001B[0m)      │          \u001B[38;5;34m0\u001B[0m │ functional_7[\u001B[38;5;34m0\u001B[0m][\u001B[38;5;34m…\u001B[0m │\n",
       "│ (\u001B[38;5;33mGlobalAveragePool…\u001B[0m │                   │            │                   │\n",
       "├─────────────────────┼───────────────────┼────────────┼───────────────────┤\n",
       "│ dense_30 (\u001B[38;5;33mDense\u001B[0m)    │ (\u001B[38;5;45mNone\u001B[0m, \u001B[38;5;34m320\u001B[0m)       │    \u001B[38;5;34m409,920\u001B[0m │ global_average_p… │\n",
       "├─────────────────────┼───────────────────┼────────────┼───────────────────┤\n",
       "│ dense_31 (\u001B[38;5;33mDense\u001B[0m)    │ (\u001B[38;5;45mNone\u001B[0m, \u001B[38;5;34m1280\u001B[0m)      │    \u001B[38;5;34m410,880\u001B[0m │ dense_30[\u001B[38;5;34m0\u001B[0m][\u001B[38;5;34m0\u001B[0m]    │\n",
       "├─────────────────────┼───────────────────┼────────────┼───────────────────┤\n",
       "│ reshape_5 (\u001B[38;5;33mReshape\u001B[0m) │ (\u001B[38;5;45mNone\u001B[0m, \u001B[38;5;34m1\u001B[0m, \u001B[38;5;34m1\u001B[0m,      │          \u001B[38;5;34m0\u001B[0m │ dense_31[\u001B[38;5;34m0\u001B[0m][\u001B[38;5;34m0\u001B[0m]    │\n",
       "│                     │ \u001B[38;5;34m1280\u001B[0m)             │            │                   │\n",
       "├─────────────────────┼───────────────────┼────────────┼───────────────────┤\n",
       "│ multiply_5          │ (\u001B[38;5;45mNone\u001B[0m, \u001B[38;5;34m7\u001B[0m, \u001B[38;5;34m7\u001B[0m,      │          \u001B[38;5;34m0\u001B[0m │ functional_7[\u001B[38;5;34m0\u001B[0m][\u001B[38;5;34m…\u001B[0m │\n",
       "│ (\u001B[38;5;33mMultiply\u001B[0m)          │ \u001B[38;5;34m1280\u001B[0m)             │            │ reshape_5[\u001B[38;5;34m0\u001B[0m][\u001B[38;5;34m0\u001B[0m]   │\n",
       "├─────────────────────┼───────────────────┼────────────┼───────────────────┤\n",
       "│ global_average_poo… │ (\u001B[38;5;45mNone\u001B[0m, \u001B[38;5;34m1280\u001B[0m)      │          \u001B[38;5;34m0\u001B[0m │ multiply_5[\u001B[38;5;34m0\u001B[0m][\u001B[38;5;34m0\u001B[0m]  │\n",
       "│ (\u001B[38;5;33mGlobalAveragePool…\u001B[0m │                   │            │                   │\n",
       "├─────────────────────┼───────────────────┼────────────┼───────────────────┤\n",
       "│ dense_32 (\u001B[38;5;33mDense\u001B[0m)    │ (\u001B[38;5;45mNone\u001B[0m, \u001B[38;5;34m256\u001B[0m)       │    \u001B[38;5;34m327,936\u001B[0m │ global_average_p… │\n",
       "├─────────────────────┼───────────────────┼────────────┼───────────────────┤\n",
       "│ dropout_15          │ (\u001B[38;5;45mNone\u001B[0m, \u001B[38;5;34m256\u001B[0m)       │          \u001B[38;5;34m0\u001B[0m │ dense_32[\u001B[38;5;34m0\u001B[0m][\u001B[38;5;34m0\u001B[0m]    │\n",
       "│ (\u001B[38;5;33mDropout\u001B[0m)           │                   │            │                   │\n",
       "├─────────────────────┼───────────────────┼────────────┼───────────────────┤\n",
       "│ dense_33 (\u001B[38;5;33mDense\u001B[0m)    │ (\u001B[38;5;45mNone\u001B[0m, \u001B[38;5;34m128\u001B[0m)       │     \u001B[38;5;34m32,896\u001B[0m │ dropout_15[\u001B[38;5;34m0\u001B[0m][\u001B[38;5;34m0\u001B[0m]  │\n",
       "├─────────────────────┼───────────────────┼────────────┼───────────────────┤\n",
       "│ dropout_16          │ (\u001B[38;5;45mNone\u001B[0m, \u001B[38;5;34m128\u001B[0m)       │          \u001B[38;5;34m0\u001B[0m │ dense_33[\u001B[38;5;34m0\u001B[0m][\u001B[38;5;34m0\u001B[0m]    │\n",
       "│ (\u001B[38;5;33mDropout\u001B[0m)           │                   │            │                   │\n",
       "├─────────────────────┼───────────────────┼────────────┼───────────────────┤\n",
       "│ dense_34 (\u001B[38;5;33mDense\u001B[0m)    │ (\u001B[38;5;45mNone\u001B[0m, \u001B[38;5;34m64\u001B[0m)        │      \u001B[38;5;34m8,256\u001B[0m │ dropout_16[\u001B[38;5;34m0\u001B[0m][\u001B[38;5;34m0\u001B[0m]  │\n",
       "├─────────────────────┼───────────────────┼────────────┼───────────────────┤\n",
       "│ dropout_17          │ (\u001B[38;5;45mNone\u001B[0m, \u001B[38;5;34m64\u001B[0m)        │          \u001B[38;5;34m0\u001B[0m │ dense_34[\u001B[38;5;34m0\u001B[0m][\u001B[38;5;34m0\u001B[0m]    │\n",
       "│ (\u001B[38;5;33mDropout\u001B[0m)           │                   │            │                   │\n",
       "├─────────────────────┼───────────────────┼────────────┼───────────────────┤\n",
       "│ dense_35 (\u001B[38;5;33mDense\u001B[0m)    │ (\u001B[38;5;45mNone\u001B[0m, \u001B[38;5;34m1\u001B[0m)         │         \u001B[38;5;34m65\u001B[0m │ dropout_17[\u001B[38;5;34m0\u001B[0m][\u001B[38;5;34m0\u001B[0m]  │\n",
       "└─────────────────────┴───────────────────┴────────────┴───────────────────┘\n"
      ],
      "text/html": [
       "<pre style=\"white-space:pre;overflow-x:auto;line-height:normal;font-family:Menlo,'DejaVu Sans Mono',consolas,'Courier New',monospace\">┏━━━━━━━━━━━━━━━━━━━━━┳━━━━━━━━━━━━━━━━━━━┳━━━━━━━━━━━━┳━━━━━━━━━━━━━━━━━━━┓\n",
       "┃<span style=\"font-weight: bold\"> Layer (type)        </span>┃<span style=\"font-weight: bold\"> Output Shape      </span>┃<span style=\"font-weight: bold\">    Param # </span>┃<span style=\"font-weight: bold\"> Connected to      </span>┃\n",
       "┡━━━━━━━━━━━━━━━━━━━━━╇━━━━━━━━━━━━━━━━━━━╇━━━━━━━━━━━━╇━━━━━━━━━━━━━━━━━━━┩\n",
       "│ input_layer_7       │ (<span style=\"color: #00d7ff; text-decoration-color: #00d7ff\">None</span>, <span style=\"color: #00af00; text-decoration-color: #00af00\">224</span>, <span style=\"color: #00af00; text-decoration-color: #00af00\">224</span>,  │          <span style=\"color: #00af00; text-decoration-color: #00af00\">0</span> │ -                 │\n",
       "│ (<span style=\"color: #0087ff; text-decoration-color: #0087ff\">InputLayer</span>)        │ <span style=\"color: #00af00; text-decoration-color: #00af00\">3</span>)                │            │                   │\n",
       "├─────────────────────┼───────────────────┼────────────┼───────────────────┤\n",
       "│ functional_7        │ (<span style=\"color: #00d7ff; text-decoration-color: #00d7ff\">None</span>, <span style=\"color: #00af00; text-decoration-color: #00af00\">7</span>, <span style=\"color: #00af00; text-decoration-color: #00af00\">7</span>,      │  <span style=\"color: #00af00; text-decoration-color: #00af00\">2,257,984</span> │ input_layer_7[<span style=\"color: #00af00; text-decoration-color: #00af00\">0</span>]… │\n",
       "│ (<span style=\"color: #0087ff; text-decoration-color: #0087ff\">Functional</span>)        │ <span style=\"color: #00af00; text-decoration-color: #00af00\">1280</span>)             │            │                   │\n",
       "├─────────────────────┼───────────────────┼────────────┼───────────────────┤\n",
       "│ global_average_poo… │ (<span style=\"color: #00d7ff; text-decoration-color: #00d7ff\">None</span>, <span style=\"color: #00af00; text-decoration-color: #00af00\">1280</span>)      │          <span style=\"color: #00af00; text-decoration-color: #00af00\">0</span> │ functional_7[<span style=\"color: #00af00; text-decoration-color: #00af00\">0</span>][<span style=\"color: #00af00; text-decoration-color: #00af00\">…</span> │\n",
       "│ (<span style=\"color: #0087ff; text-decoration-color: #0087ff\">GlobalAveragePool…</span> │                   │            │                   │\n",
       "├─────────────────────┼───────────────────┼────────────┼───────────────────┤\n",
       "│ dense_30 (<span style=\"color: #0087ff; text-decoration-color: #0087ff\">Dense</span>)    │ (<span style=\"color: #00d7ff; text-decoration-color: #00d7ff\">None</span>, <span style=\"color: #00af00; text-decoration-color: #00af00\">320</span>)       │    <span style=\"color: #00af00; text-decoration-color: #00af00\">409,920</span> │ global_average_p… │\n",
       "├─────────────────────┼───────────────────┼────────────┼───────────────────┤\n",
       "│ dense_31 (<span style=\"color: #0087ff; text-decoration-color: #0087ff\">Dense</span>)    │ (<span style=\"color: #00d7ff; text-decoration-color: #00d7ff\">None</span>, <span style=\"color: #00af00; text-decoration-color: #00af00\">1280</span>)      │    <span style=\"color: #00af00; text-decoration-color: #00af00\">410,880</span> │ dense_30[<span style=\"color: #00af00; text-decoration-color: #00af00\">0</span>][<span style=\"color: #00af00; text-decoration-color: #00af00\">0</span>]    │\n",
       "├─────────────────────┼───────────────────┼────────────┼───────────────────┤\n",
       "│ reshape_5 (<span style=\"color: #0087ff; text-decoration-color: #0087ff\">Reshape</span>) │ (<span style=\"color: #00d7ff; text-decoration-color: #00d7ff\">None</span>, <span style=\"color: #00af00; text-decoration-color: #00af00\">1</span>, <span style=\"color: #00af00; text-decoration-color: #00af00\">1</span>,      │          <span style=\"color: #00af00; text-decoration-color: #00af00\">0</span> │ dense_31[<span style=\"color: #00af00; text-decoration-color: #00af00\">0</span>][<span style=\"color: #00af00; text-decoration-color: #00af00\">0</span>]    │\n",
       "│                     │ <span style=\"color: #00af00; text-decoration-color: #00af00\">1280</span>)             │            │                   │\n",
       "├─────────────────────┼───────────────────┼────────────┼───────────────────┤\n",
       "│ multiply_5          │ (<span style=\"color: #00d7ff; text-decoration-color: #00d7ff\">None</span>, <span style=\"color: #00af00; text-decoration-color: #00af00\">7</span>, <span style=\"color: #00af00; text-decoration-color: #00af00\">7</span>,      │          <span style=\"color: #00af00; text-decoration-color: #00af00\">0</span> │ functional_7[<span style=\"color: #00af00; text-decoration-color: #00af00\">0</span>][<span style=\"color: #00af00; text-decoration-color: #00af00\">…</span> │\n",
       "│ (<span style=\"color: #0087ff; text-decoration-color: #0087ff\">Multiply</span>)          │ <span style=\"color: #00af00; text-decoration-color: #00af00\">1280</span>)             │            │ reshape_5[<span style=\"color: #00af00; text-decoration-color: #00af00\">0</span>][<span style=\"color: #00af00; text-decoration-color: #00af00\">0</span>]   │\n",
       "├─────────────────────┼───────────────────┼────────────┼───────────────────┤\n",
       "│ global_average_poo… │ (<span style=\"color: #00d7ff; text-decoration-color: #00d7ff\">None</span>, <span style=\"color: #00af00; text-decoration-color: #00af00\">1280</span>)      │          <span style=\"color: #00af00; text-decoration-color: #00af00\">0</span> │ multiply_5[<span style=\"color: #00af00; text-decoration-color: #00af00\">0</span>][<span style=\"color: #00af00; text-decoration-color: #00af00\">0</span>]  │\n",
       "│ (<span style=\"color: #0087ff; text-decoration-color: #0087ff\">GlobalAveragePool…</span> │                   │            │                   │\n",
       "├─────────────────────┼───────────────────┼────────────┼───────────────────┤\n",
       "│ dense_32 (<span style=\"color: #0087ff; text-decoration-color: #0087ff\">Dense</span>)    │ (<span style=\"color: #00d7ff; text-decoration-color: #00d7ff\">None</span>, <span style=\"color: #00af00; text-decoration-color: #00af00\">256</span>)       │    <span style=\"color: #00af00; text-decoration-color: #00af00\">327,936</span> │ global_average_p… │\n",
       "├─────────────────────┼───────────────────┼────────────┼───────────────────┤\n",
       "│ dropout_15          │ (<span style=\"color: #00d7ff; text-decoration-color: #00d7ff\">None</span>, <span style=\"color: #00af00; text-decoration-color: #00af00\">256</span>)       │          <span style=\"color: #00af00; text-decoration-color: #00af00\">0</span> │ dense_32[<span style=\"color: #00af00; text-decoration-color: #00af00\">0</span>][<span style=\"color: #00af00; text-decoration-color: #00af00\">0</span>]    │\n",
       "│ (<span style=\"color: #0087ff; text-decoration-color: #0087ff\">Dropout</span>)           │                   │            │                   │\n",
       "├─────────────────────┼───────────────────┼────────────┼───────────────────┤\n",
       "│ dense_33 (<span style=\"color: #0087ff; text-decoration-color: #0087ff\">Dense</span>)    │ (<span style=\"color: #00d7ff; text-decoration-color: #00d7ff\">None</span>, <span style=\"color: #00af00; text-decoration-color: #00af00\">128</span>)       │     <span style=\"color: #00af00; text-decoration-color: #00af00\">32,896</span> │ dropout_15[<span style=\"color: #00af00; text-decoration-color: #00af00\">0</span>][<span style=\"color: #00af00; text-decoration-color: #00af00\">0</span>]  │\n",
       "├─────────────────────┼───────────────────┼────────────┼───────────────────┤\n",
       "│ dropout_16          │ (<span style=\"color: #00d7ff; text-decoration-color: #00d7ff\">None</span>, <span style=\"color: #00af00; text-decoration-color: #00af00\">128</span>)       │          <span style=\"color: #00af00; text-decoration-color: #00af00\">0</span> │ dense_33[<span style=\"color: #00af00; text-decoration-color: #00af00\">0</span>][<span style=\"color: #00af00; text-decoration-color: #00af00\">0</span>]    │\n",
       "│ (<span style=\"color: #0087ff; text-decoration-color: #0087ff\">Dropout</span>)           │                   │            │                   │\n",
       "├─────────────────────┼───────────────────┼────────────┼───────────────────┤\n",
       "│ dense_34 (<span style=\"color: #0087ff; text-decoration-color: #0087ff\">Dense</span>)    │ (<span style=\"color: #00d7ff; text-decoration-color: #00d7ff\">None</span>, <span style=\"color: #00af00; text-decoration-color: #00af00\">64</span>)        │      <span style=\"color: #00af00; text-decoration-color: #00af00\">8,256</span> │ dropout_16[<span style=\"color: #00af00; text-decoration-color: #00af00\">0</span>][<span style=\"color: #00af00; text-decoration-color: #00af00\">0</span>]  │\n",
       "├─────────────────────┼───────────────────┼────────────┼───────────────────┤\n",
       "│ dropout_17          │ (<span style=\"color: #00d7ff; text-decoration-color: #00d7ff\">None</span>, <span style=\"color: #00af00; text-decoration-color: #00af00\">64</span>)        │          <span style=\"color: #00af00; text-decoration-color: #00af00\">0</span> │ dense_34[<span style=\"color: #00af00; text-decoration-color: #00af00\">0</span>][<span style=\"color: #00af00; text-decoration-color: #00af00\">0</span>]    │\n",
       "│ (<span style=\"color: #0087ff; text-decoration-color: #0087ff\">Dropout</span>)           │                   │            │                   │\n",
       "├─────────────────────┼───────────────────┼────────────┼───────────────────┤\n",
       "│ dense_35 (<span style=\"color: #0087ff; text-decoration-color: #0087ff\">Dense</span>)    │ (<span style=\"color: #00d7ff; text-decoration-color: #00d7ff\">None</span>, <span style=\"color: #00af00; text-decoration-color: #00af00\">1</span>)         │         <span style=\"color: #00af00; text-decoration-color: #00af00\">65</span> │ dropout_17[<span style=\"color: #00af00; text-decoration-color: #00af00\">0</span>][<span style=\"color: #00af00; text-decoration-color: #00af00\">0</span>]  │\n",
       "└─────────────────────┴───────────────────┴────────────┴───────────────────┘\n",
       "</pre>\n"
      ]
     },
     "metadata": {},
     "output_type": "display_data"
    },
    {
     "data": {
      "text/plain": [
       "\u001B[1m Total params: \u001B[0m\u001B[38;5;34m3,447,939\u001B[0m (13.15 MB)\n"
      ],
      "text/html": [
       "<pre style=\"white-space:pre;overflow-x:auto;line-height:normal;font-family:Menlo,'DejaVu Sans Mono',consolas,'Courier New',monospace\"><span style=\"font-weight: bold\"> Total params: </span><span style=\"color: #00af00; text-decoration-color: #00af00\">3,447,939</span> (13.15 MB)\n",
       "</pre>\n"
      ]
     },
     "metadata": {},
     "output_type": "display_data"
    },
    {
     "data": {
      "text/plain": [
       "\u001B[1m Trainable params: \u001B[0m\u001B[38;5;34m1,189,953\u001B[0m (4.54 MB)\n"
      ],
      "text/html": [
       "<pre style=\"white-space:pre;overflow-x:auto;line-height:normal;font-family:Menlo,'DejaVu Sans Mono',consolas,'Courier New',monospace\"><span style=\"font-weight: bold\"> Trainable params: </span><span style=\"color: #00af00; text-decoration-color: #00af00\">1,189,953</span> (4.54 MB)\n",
       "</pre>\n"
      ]
     },
     "metadata": {},
     "output_type": "display_data"
    },
    {
     "data": {
      "text/plain": [
       "\u001B[1m Non-trainable params: \u001B[0m\u001B[38;5;34m2,257,984\u001B[0m (8.61 MB)\n"
      ],
      "text/html": [
       "<pre style=\"white-space:pre;overflow-x:auto;line-height:normal;font-family:Menlo,'DejaVu Sans Mono',consolas,'Courier New',monospace\"><span style=\"font-weight: bold\"> Non-trainable params: </span><span style=\"color: #00af00; text-decoration-color: #00af00\">2,257,984</span> (8.61 MB)\n",
       "</pre>\n"
      ]
     },
     "metadata": {},
     "output_type": "display_data"
    },
    {
     "data": {
      "text/plain": [
       "\u001B[1m Optimizer params: \u001B[0m\u001B[38;5;34m2\u001B[0m (12.00 B)\n"
      ],
      "text/html": [
       "<pre style=\"white-space:pre;overflow-x:auto;line-height:normal;font-family:Menlo,'DejaVu Sans Mono',consolas,'Courier New',monospace\"><span style=\"font-weight: bold\"> Optimizer params: </span><span style=\"color: #00af00; text-decoration-color: #00af00\">2</span> (12.00 B)\n",
       "</pre>\n"
      ]
     },
     "metadata": {},
     "output_type": "display_data"
    },
    {
     "name": "stdout",
     "output_type": "stream",
     "text": [
      "\n",
      "📊 PARAMETER ANALYSIS:\n",
      "   Total parameters: 3,447,937\n",
      "   Trainable parameters: 1,189,953\n",
      "   Non-trainable parameters: 2,257,984\n",
      "   Model size: ~13.15 MB\n"
     ]
    }
   ],
   "execution_count": 39
  },
  {
   "metadata": {
    "ExecuteTime": {
     "end_time": "2025-06-07T17:26:15.537030Z",
     "start_time": "2025-06-07T17:26:15.530337Z"
    }
   },
   "cell_type": "code",
   "source": [
    "# ============================================================================\n",
    "# STEP 8F: FINAL PERFORMANCE DASHBOARD\n",
    "# ============================================================================\n",
    "\n",
    "print(\"\\n🎉 FINAL PERFORMANCE DASHBOARD\")\n",
    "print(\"=\" * 60)\n",
    "\n",
    "# Create a comprehensive summary\n",
    "dashboard_text = f\"\"\"\n",
    "🏆 ENHANCED MODEL PERFORMANCE SUMMARY\n",
    "{'='*60}\n",
    "\n",
    "🎯 PRIMARY ACHIEVEMENTS:\n",
    "   • TTA Accuracy: 97.28% ⭐ (TARGET: >97.00%)\n",
    "   • TTA F1-Score: 97.29%\n",
    "   • TTA AUC: {auc_tta:.4f}\n",
    "\n",
    "📈 IMPROVEMENTS OVER BASELINE:\n",
    "   • Accuracy: +1.32% (95.96% → 97.28%)\n",
    "   • F1-Score: +1.27% (96.02% → 97.29%)\n",
    "   • Architecture: Added attention mechanism\n",
    "\n",
    "🔬 TECHNICAL NOVELTY:\n",
    "   • Channel attention mechanism integration\n",
    "   • Enhanced classification head with progressive dropout\n",
    "   • Test-time augmentation optimization\n",
    "\n",
    "📊 COMPARISON WITH LITERATURE:\n",
    "   • Target paper accuracy: 96.80%\n",
    "   • Our enhanced model: 97.28% (+0.48% improvement)\n",
    "   • Standard MobileNetV2: 95.50% (literature baseline)\n",
    "\n",
    "💾 MODEL SPECIFICATIONS:\n",
    "   • Architecture: Attention-Enhanced MobileNetV2\n",
    "   • Parameters: {total_params:,} total ({trainable_params:,} trainable)\n",
    "   • Input size: 224×224×3\n",
    "   • Classes: Real Anime vs AI Generated\n",
    "\n",
    "✅ VALIDATION:\n",
    "   • Confusion Matrix: High precision and recall for both classes\n",
    "   • ROC-AUC: {auc_tta:.4f} (Excellent discrimination)\n",
    "   • Generalization: Strong test set performance\n",
    "\"\"\"\n",
    "\n",
    "print(dashboard_text)\n",
    "print(\"\\n🎊 Analysis complete! All visualizations and statistics generated.\")"
   ],
   "id": "a61a7aff9a1d5510",
   "outputs": [
    {
     "name": "stdout",
     "output_type": "stream",
     "text": [
      "\n",
      "🎉 FINAL PERFORMANCE DASHBOARD\n",
      "============================================================\n",
      "\n",
      "🏆 ENHANCED MODEL PERFORMANCE SUMMARY\n",
      "============================================================\n",
      "\n",
      "🎯 PRIMARY ACHIEVEMENTS:\n",
      "   • TTA Accuracy: 97.28% ⭐ (TARGET: >97.00%)\n",
      "   • TTA F1-Score: 97.29%\n",
      "   • TTA AUC: 0.9953\n",
      "\n",
      "📈 IMPROVEMENTS OVER BASELINE:\n",
      "   • Accuracy: +1.32% (95.96% → 97.28%)\n",
      "   • F1-Score: +1.27% (96.02% → 97.29%)\n",
      "   • Architecture: Added attention mechanism\n",
      "\n",
      "🔬 TECHNICAL NOVELTY:\n",
      "   • Channel attention mechanism integration\n",
      "   • Enhanced classification head with progressive dropout\n",
      "   • Test-time augmentation optimization\n",
      "\n",
      "📊 COMPARISON WITH LITERATURE:\n",
      "   • Target paper accuracy: 96.80%\n",
      "   • Our enhanced model: 97.28% (+0.48% improvement)\n",
      "   • Standard MobileNetV2: 95.50% (literature baseline)\n",
      "\n",
      "💾 MODEL SPECIFICATIONS:\n",
      "   • Architecture: Attention-Enhanced MobileNetV2\n",
      "   • Parameters: 3,447,937 total (1,189,953 trainable)\n",
      "   • Input size: 224×224×3\n",
      "   • Classes: Real Anime vs AI Generated\n",
      "\n",
      "✅ VALIDATION:\n",
      "   • Confusion Matrix: High precision and recall for both classes\n",
      "   • ROC-AUC: 0.9953 (Excellent discrimination)\n",
      "   • Generalization: Strong test set performance\n",
      "\n",
      "\n",
      "🎊 Analysis complete! All visualizations and statistics generated.\n"
     ]
    }
   ],
   "execution_count": 42
  },
  {
   "metadata": {},
   "cell_type": "markdown",
   "source": [
    "## ---------------------------------- FINISHED PHASE 2: NOVELTY ----------------------------------\n",
    "### -> Check the paper included with this project for an overview"
   ],
   "id": "67d598517f1a94e0"
  }
 ],
 "metadata": {
  "kernelspec": {
   "display_name": "Python 3",
   "language": "python",
   "name": "python3"
  },
  "language_info": {
   "codemirror_mode": {
    "name": "ipython",
    "version": 2
   },
   "file_extension": ".py",
   "mimetype": "text/x-python",
   "name": "python",
   "nbconvert_exporter": "python",
   "pygments_lexer": "ipython2",
   "version": "2.7.6"
  }
 },
 "nbformat": 4,
 "nbformat_minor": 5
}
